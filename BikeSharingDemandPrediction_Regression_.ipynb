{
  "nbformat": 4,
  "nbformat_minor": 0,
  "metadata": {
    "colab": {
      "private_outputs": true,
      "provenance": [],
      "collapsed_sections": [
        "x71ZqKXriCWQ",
        "-Kee-DAl2viO",
        "gIfDvo9L0UH2"
      ],
      "include_colab_link": true
    },
    "kernelspec": {
      "name": "python3",
      "display_name": "Python 3"
    },
    "language_info": {
      "name": "python"
    }
  },
  "cells": [
    {
      "cell_type": "markdown",
      "metadata": {
        "id": "view-in-github",
        "colab_type": "text"
      },
      "source": [
        "<a href=\"https://colab.research.google.com/github/vaishnavikaithwas/Bike-sharing-demand-prediction-ML-project/blob/main/BikeSharingDemandPrediction_Regression_.ipynb\" target=\"_parent\"><img src=\"https://colab.research.google.com/assets/colab-badge.svg\" alt=\"Open In Colab\"/></a>"
      ]
    },
    {
      "cell_type": "markdown",
      "source": [
        "# **Project Name**    - Bike Sharing Demand Prediction\n",
        "\n"
      ],
      "metadata": {
        "id": "vncDsAP0Gaoa"
      }
    },
    {
      "cell_type": "markdown",
      "source": [
        "##### **Project Type** - Regression\n",
        "##### **Contribution** - Individual\n",
        "##### **Name** - Vaishnavi Kaithwas\n"
      ],
      "metadata": {
        "id": "beRrZCGUAJYm"
      }
    },
    {
      "cell_type": "markdown",
      "source": [
        "# **Project Summary -**"
      ],
      "metadata": {
        "id": "FJNUwmbgGyua"
      }
    },
    {
      "cell_type": "markdown",
      "source": [
        " - Bike soul is a bike sharing service in the city of Seoul, South Korea. It is part of the city's efforts to promote sustainable transportation and reduce traffic congestion. The service allows residents and visitors to rent bicycles at various stations across the city and return them to any other station, providing a convenient and eco-friendly mode of transportation. In recent years, the demand for bike rentals in Seoul has increased, leading to the need for a more efficient and effective way to manage the bike sharing operations. Accurately predicting bike demand is crucial for optimizing fleet management, ensuring the availability of bikes at high-demand locations, and reducing waste and costs.\n",
        "\n",
        "- The main objective of this project is to develop a machine learning model that can accurately predict the demand for bike rentals in Seoul, South Korea, based on historical data and various relevant factors such as weather conditions, time of day, and public holidays.\n",
        "\n",
        "- Firstly, I began by acquiring and preprocessing the dataset. The dataset\n",
        "contained information about bike rentals, including features such as the number of bikes rented, weather conditions, and time-related variables. I cleaned the dataset by handling missing values, encoding categorical variables, and scaling numerical features to prepare it for modeling.\n",
        "\n",
        "- Next, I performed exploratory data analysis (EDA) to gain insights into the dataset and understand the relationships between different variables. This helped me identify important features that could influence bike rental demand, such as temperature, humidity, and seasonality.\n",
        "\n",
        "- After completing the EDA, I split the dataset into training and testing sets to evaluate the performance of the machine learning models. I used four different algorithms for regression: linear regression, decision tree regression, random forest regression, and gradient boosting regression. Each algorithm was trained on the training dataset and evaluated using the testing dataset.\n",
        "\n",
        "- To improve the performance of the models, I conducted hyperparameter tuning using GridSearchCV. This technique allowed me to systematically search for the best hyperparameters for each algorithm, optimizing their performance and enhancing the accuracy of the predictions.\n",
        "\n",
        "- Finally, I evaluated the performance of the models using metrics such as mean squared error (MSE), root mean squared error (RMSE), and R-squared value. These metrics provided insights into the models' ability to accurately predict bike rental demand.\n",
        "\n",
        "- In conclusion, my machine learning project on bike sharing demand prediction involved following a systematic approach to machine learning, including data preprocessing, EDA, model selection, hyperparameter tuning, and performance evaluation. By using four different algorithms and optimizing their hyperparameters, I was able to develop a robust model for predicting bike rental demand, which could be valuable for bike sharing companies in optimizing their inventory and meeting customer demand.\n",
        "\n"
      ],
      "metadata": {
        "id": "F6v_1wHtG2nS"
      }
    },
    {
      "cell_type": "markdown",
      "source": [
        "# **GitHub Link -**"
      ],
      "metadata": {
        "id": "w6K7xa23Elo4"
      }
    },
    {
      "cell_type": "markdown",
      "source": [
        "https://github.com/vaishnavikaithwas/Bike-sharing-demand-prediction-ML-project"
      ],
      "metadata": {
        "id": "uQ55xc-c5tVz"
      }
    },
    {
      "cell_type": "markdown",
      "source": [
        "# **Problem Statement**\n"
      ],
      "metadata": {
        "id": "yQaldy8SH6Dl"
      }
    },
    {
      "cell_type": "markdown",
      "source": [
        "**As urbanization surges and sustainability takes center stage, bike-sharing systems have become a staple in cities worldwide. However, a persistent challenge remains: the inconsistency in bike availability across stations often leads to customer dissatisfaction due to long waiting times. To address this issue effectively, our project endeavors to develop a machine learning model. This model aims to accurately forecast the demand for bike rentals by leveraging various factors such as weather conditions, time of day, and day of the week. By doing so, we aim to empower bike-sharing companies to optimize their inventory management, ensuring a sufficient number of bikes are readily accessible at high-demand locations and times. Ultimately, our efforts seek to not only enhance customer satisfaction but also streamline revenue generation by providing a stable and reliable supply of rental bikes.**"
      ],
      "metadata": {
        "id": "DpeJGUA3kjGy"
      }
    },
    {
      "cell_type": "markdown",
      "source": [
        "# ***Let's Begin !***"
      ],
      "metadata": {
        "id": "O_i_v8NEhb9l"
      }
    },
    {
      "cell_type": "markdown",
      "source": [
        "## ***1. Know Your Data***"
      ],
      "metadata": {
        "id": "HhfV-JJviCcP"
      }
    },
    {
      "cell_type": "markdown",
      "source": [
        "### Import Libraries"
      ],
      "metadata": {
        "id": "Y3lxredqlCYt"
      }
    },
    {
      "cell_type": "code",
      "source": [
        "# Import Libraries\n",
        "import pandas as pd\n",
        "import numpy as np\n",
        "import matplotlib.pyplot as plt\n",
        "import seaborn as sns\n",
        "from sklearn.model_selection import train_test_split\n",
        "from sklearn.linear_model import LinearRegression\n",
        "from sklearn.metrics import mean_squared_error, r2_score\n",
        "from sklearn.linear_model import Ridge, Lasso, LinearRegression, LogisticRegression\n",
        "from sklearn.neighbors import KNeighborsRegressor\n",
        "from sklearn.tree import DecisionTreeRegressor\n",
        "from sklearn.ensemble import RandomForestRegressor, ExtraTreesRegressor, GradientBoostingRegressor\n"
      ],
      "metadata": {
        "id": "M8Vqi-pPk-HR"
      },
      "execution_count": null,
      "outputs": []
    },
    {
      "cell_type": "markdown",
      "source": [
        "###Mount the drive"
      ],
      "metadata": {
        "id": "opZqzg-0eAqB"
      }
    },
    {
      "cell_type": "code",
      "source": [
        "from google.colab import drive\n",
        "drive.mount(\"/content/drive\")"
      ],
      "metadata": {
        "id": "Kall496meILu"
      },
      "execution_count": null,
      "outputs": []
    },
    {
      "cell_type": "markdown",
      "source": [
        "### Dataset Loading"
      ],
      "metadata": {
        "id": "3RnN4peoiCZX"
      }
    },
    {
      "cell_type": "code",
      "source": [
        "# Load Dataset\n",
        "data = pd.read_csv(r'/content/SeoulBikeData (1).csv',encoding='unicode_escape')"
      ],
      "metadata": {
        "id": "NrR4MsPWnQ0W"
      },
      "execution_count": null,
      "outputs": []
    },
    {
      "cell_type": "markdown",
      "source": [
        "### Dataset First View"
      ],
      "metadata": {
        "id": "x71ZqKXriCWQ"
      }
    },
    {
      "cell_type": "markdown",
      "source": [
        "### Dataset Rows & Columns count"
      ],
      "metadata": {
        "id": "7hBIi_osiCS2"
      }
    },
    {
      "cell_type": "code",
      "source": [
        "# Dataset First Look\n",
        "data.head()"
      ],
      "metadata": {
        "id": "YgtFOaZofft6"
      },
      "execution_count": null,
      "outputs": []
    },
    {
      "cell_type": "code",
      "source": [
        "# View last 5 rows of the dataset\n",
        "data.tail()"
      ],
      "metadata": {
        "id": "17St7rQAoPi9"
      },
      "execution_count": null,
      "outputs": []
    },
    {
      "cell_type": "code",
      "source": [
        "# Dataset Rows & Columns count\n",
        "data.shape"
      ],
      "metadata": {
        "id": "Kllu7SJgmLij"
      },
      "execution_count": null,
      "outputs": []
    },
    {
      "cell_type": "markdown",
      "source": [
        "### Dataset Information"
      ],
      "metadata": {
        "id": "JlHwYmJAmNHm"
      }
    },
    {
      "cell_type": "code",
      "source": [
        "# Dataset Info\n",
        "data.info()"
      ],
      "metadata": {
        "id": "e9hRXRi6meOf"
      },
      "execution_count": null,
      "outputs": []
    },
    {
      "cell_type": "markdown",
      "source": [
        "#### Duplicate Values"
      ],
      "metadata": {
        "id": "35m5QtbWiB9F"
      }
    },
    {
      "cell_type": "code",
      "source": [
        "# Dataset Duplicate Value Count\n",
        "data.duplicated().sum()"
      ],
      "metadata": {
        "id": "1sLdpKYkmox0"
      },
      "execution_count": null,
      "outputs": []
    },
    {
      "cell_type": "markdown",
      "source": [
        "#### Missing Values/Null Values"
      ],
      "metadata": {
        "id": "PoPl-ycgm1ru"
      }
    },
    {
      "cell_type": "code",
      "source": [
        "# Missing Values/Null Values Count\n",
        "data.isnull().sum()"
      ],
      "metadata": {
        "id": "GgHWkxvamxVg"
      },
      "execution_count": null,
      "outputs": []
    },
    {
      "cell_type": "code",
      "source": [
        "# Visualizing the missing values\n",
        "# Checking Null Value by plotting Heatmap\n",
        "sns.heatmap(data.isnull(), cbar=False)"
      ],
      "metadata": {
        "id": "3q5wnI3om9sJ"
      },
      "execution_count": null,
      "outputs": []
    },
    {
      "cell_type": "markdown",
      "source": [
        "### What did you know about your dataset?"
      ],
      "metadata": {
        "id": "H0kj-8xxnORC"
      }
    },
    {
      "cell_type": "markdown",
      "source": [
        "* There are 8760 number of observations(rows) and 14 features (columns)\n",
        "\n",
        "* There are no duplicate rows in the dataset.\n",
        "\n",
        "* Also there are no missing values or Null values in the dataset."
      ],
      "metadata": {
        "id": "gfoNAAC-nUe_"
      }
    },
    {
      "cell_type": "markdown",
      "source": [
        "## ***2. Understanding Your Variables***"
      ],
      "metadata": {
        "id": "nA9Y7ga8ng1Z"
      }
    },
    {
      "cell_type": "code",
      "source": [
        "# Dataset Columns\n",
        "data.columns"
      ],
      "metadata": {
        "id": "j7xfkqrt5Ag5"
      },
      "execution_count": null,
      "outputs": []
    },
    {
      "cell_type": "code",
      "source": [
        "# Dataset Describe\n",
        "data.describe()"
      ],
      "metadata": {
        "id": "DnOaZdaE5Q5t"
      },
      "execution_count": null,
      "outputs": []
    },
    {
      "cell_type": "markdown",
      "source": [
        "### Variables Description"
      ],
      "metadata": {
        "id": "PBTbrJXOngz2"
      }
    },
    {
      "cell_type": "markdown",
      "source": [
        "**1.Date :** This column likely contains the date of the observation,formatting in DD/MM/YYYY     \n",
        "\n",
        "**2.Rented Bike count :**  Count of bikes rented at each hour\n",
        "\n",
        "**3.Hour :** Hour of the day\n",
        "\n",
        "**4.Temperature :** Temperature in Celsius\n",
        "\n",
        "**5. Humidity :** Humidity in the air % type\n",
        "\n",
        "**6. Windspeed :** Speed of the wind in m/s\n",
        "\n",
        "**7.Visibility :** Visibillity in meters\n",
        "\n",
        "**8.Dew point temperature(°C):** The dew point temperature in degrees Celsius\n",
        "\n",
        "**9.Solar radiation :** The solar radiation in MegaJoules per square meter\n",
        "\n",
        "**10. Rainfall :**  The amount of rainfall in  mm\n",
        "\n",
        "**11.Snowfall :** The amount of snowfall in cm\n",
        "\n",
        "**12.Seasons :** The season of the year (e.g., Winter, Spring, Summer, Autumn)\n",
        "\n",
        "**13.Holiday :** If the day is Holiday/No holiday\n",
        "\n",
        "**14.Functional Day :**If the day is functioning day or not"
      ],
      "metadata": {
        "id": "aJV4KIxSnxay"
      }
    },
    {
      "cell_type": "markdown",
      "source": [
        "### Check Unique Values for each variable."
      ],
      "metadata": {
        "id": "u3PMJOP6ngxN"
      }
    },
    {
      "cell_type": "code",
      "source": [
        "# Check Unique Values for each variable.\n",
        "data.nunique()"
      ],
      "metadata": {
        "id": "zms12Yq5n-jE"
      },
      "execution_count": null,
      "outputs": []
    },
    {
      "cell_type": "markdown",
      "source": [
        "## 3. ***Data Wrangling***"
      ],
      "metadata": {
        "id": "dauF4eBmngu3"
      }
    },
    {
      "cell_type": "markdown",
      "source": [
        "### Data Wrangling Code"
      ],
      "metadata": {
        "id": "bKJF3rekwFvQ"
      }
    },
    {
      "cell_type": "code",
      "source": [
        "# Write your code to make your dataset analysis ready.\n",
        "data.columns"
      ],
      "metadata": {
        "id": "wk-9a2fpoLcV"
      },
      "execution_count": null,
      "outputs": []
    },
    {
      "cell_type": "code",
      "source": [
        "# Assuming 'data' is your DataFrame\n",
        "data['Date'] = pd.to_datetime(data['Date'], format='%d/%m/%Y')\n",
        "\n",
        "# Extracting additional features\n",
        "data['DayOfWeek'] = data['Date'].dt.dayofweek  # Monday=0, Sunday=6\n",
        "data['Month'] = data['Date'].dt.month\n",
        "data['Year'] = data['Date'].dt.year"
      ],
      "metadata": {
        "id": "K9bO30Yti9Q2"
      },
      "execution_count": null,
      "outputs": []
    },
    {
      "cell_type": "markdown",
      "source": [
        "### What all manipulations have you done and insights you found?"
      ],
      "metadata": {
        "id": "MSa1f5Uengrz"
      }
    },
    {
      "cell_type": "markdown",
      "source": [
        "1. Converted the 'Date' column to a datetime format using **`pd.to_datetime()`.**\n",
        "2. Extracted the day of the week **(`DayOfWeek`),** month **(`Month`)**, and year **(`Year`)** from the 'Date' column using the `dt` accessor.\n"
      ],
      "metadata": {
        "id": "LbyXE7I1olp8"
      }
    },
    {
      "cell_type": "markdown",
      "source": [
        "## ***4. Data Vizualization, Storytelling & Experimenting with charts : Understand the relationships between variables***"
      ],
      "metadata": {
        "id": "GF8Ens_Soomf"
      }
    },
    {
      "cell_type": "markdown",
      "source": [
        "#### Chart - 1"
      ],
      "metadata": {
        "id": "0wOQAZs5pc--"
      }
    },
    {
      "cell_type": "code",
      "source": [
        "# Chart - 1 visualization code\n",
        "\n",
        "# Grouping data by month and calculating total bike rentals for each month\n",
        "monthly_rentals = data.groupby('Month')['Rented Bike Count'].sum()\n",
        "\n",
        "# Plotting the bar graph\n",
        "plt.figure(figsize=(12,7))\n",
        "monthly_rentals.plot(kind='bar')\n",
        "plt.title('Monthly Bike Rentals')\n",
        "plt.xlabel('Month')\n",
        "plt.ylabel('Total Rentals')\n",
        "plt.xticks(rotation=0)\n",
        "plt.show()\n"
      ],
      "metadata": {
        "id": "7v_ESjsspbW7"
      },
      "execution_count": null,
      "outputs": []
    },
    {
      "cell_type": "markdown",
      "source": [
        "##### 1. Why did you pick the specific chart?"
      ],
      "metadata": {
        "id": "K5QZ13OEpz2H"
      }
    },
    {
      "cell_type": "markdown",
      "source": [
        "I chose the bar chart because it clearly displays the monthly bike rental counts, making it easy to compare between different months. This chart effectively highlights the peak demand months (May to October) and visually communicates the seasonal variation in bike rentals.\n",
        "\n",
        "\n",
        "\n",
        "\n",
        "\n"
      ],
      "metadata": {
        "id": "XESiWehPqBRc"
      }
    },
    {
      "cell_type": "markdown",
      "source": [
        "##### 2. What is/are the insight(s) found from the chart?"
      ],
      "metadata": {
        "id": "lQ7QKXXCp7Bj"
      }
    },
    {
      "cell_type": "markdown",
      "source": [
        "There is increase in bike rentals during the months of May to October(5-10) compared to other months. The months from May to October coincide with the summer season, indicating a higher demand for bike rentals during warmer months.\n",
        "\n",
        "\n",
        "\n",
        "\n"
      ],
      "metadata": {
        "id": "C_j1G7yiqdRP"
      }
    },
    {
      "cell_type": "markdown",
      "source": [
        "##### 3. Will the gained insights help creating a positive business impact?\n",
        "Are there any insights that lead to negative growth? Justify with specific reason."
      ],
      "metadata": {
        "id": "448CDAPjqfQr"
      }
    },
    {
      "cell_type": "markdown",
      "source": [
        "Yes, the gained insights can have a positive business impact by helping bike-sharing companies optimize their operations and enhance customer satisfaction during peak demand periods. However, if not managed properly, challenges such as inventory shortages during peak seasons could lead to negative growth due to customer dissatisfaction and potential loss of market share to competitors.\n",
        "\n",
        "\n",
        "\n",
        "\n",
        "\n"
      ],
      "metadata": {
        "id": "3cspy4FjqxJW"
      }
    },
    {
      "cell_type": "markdown",
      "source": [
        "#### Chart - 2"
      ],
      "metadata": {
        "id": "KSlN3yHqYklG"
      }
    },
    {
      "cell_type": "code",
      "source": [
        "# Chart - 2 visualization code\n",
        "\n",
        "# Grouping data by hour and calculating total bike rentals for each hour\n",
        "hourly_rentals = data.groupby('Hour')['Rented Bike Count'].sum()\n",
        "\n",
        "# Plotting the bar graph\n",
        "plt.figure(figsize=(12, 7))\n",
        "hourly_rentals.plot(kind='bar',color='green')\n",
        "plt.title('Hourly Bike Rentals')\n",
        "plt.xlabel('Hour of the Day')\n",
        "plt.ylabel('Total Rentals')\n",
        "plt.xticks(rotation=0)\n",
        "plt.show()\n"
      ],
      "metadata": {
        "id": "qwhnoi_JlIpP"
      },
      "execution_count": null,
      "outputs": []
    },
    {
      "cell_type": "markdown",
      "source": [
        "##### 1. Why did you pick the specific chart?"
      ],
      "metadata": {
        "id": "t6dVpIINYklI"
      }
    },
    {
      "cell_type": "markdown",
      "source": [
        "I chose the bar chart because it effectively displays the distribution of bike rentals across different hours of the day. It's suitable for comparing rental counts between hours and allows for easy interpretation of the data.\n",
        "\n",
        "\n",
        "\n",
        "\n",
        "\n",
        "\n"
      ],
      "metadata": {
        "id": "5aaW0BYyYklI"
      }
    },
    {
      "cell_type": "markdown",
      "source": [
        "##### 2. What is/are the insight(s) found from the chart?"
      ],
      "metadata": {
        "id": "ijmpgYnKYklI"
      }
    },
    {
      "cell_type": "markdown",
      "source": [
        "In the above plot which shows the use of rented bike according the hours and the data are from all over the year. generally people use rented by during their working hour from 7am  to 9am and 5pm to 7pm .\n",
        "\n"
      ],
      "metadata": {
        "id": "PSx9atu2YklI"
      }
    },
    {
      "cell_type": "markdown",
      "source": [
        "##### 3. Will the gained insights help creating a positive business impact?\n",
        "Are there any insights that lead to negative growth? Justify with specific reason."
      ],
      "metadata": {
        "id": "-JiQyfWJYklI"
      }
    },
    {
      "cell_type": "markdown",
      "source": [
        "The gained insights can lead to a positive business impact by optimizing operations and enhancing user experience during peak hours. However, challenges in meeting high demand during these periods could result in negative growth if not addressed effectively."
      ],
      "metadata": {
        "id": "BcBbebzrYklV"
      }
    },
    {
      "cell_type": "markdown",
      "source": [
        "#### Chart - 3"
      ],
      "metadata": {
        "id": "EM7whBJCYoAo"
      }
    },
    {
      "cell_type": "code",
      "source": [
        "# Chart - 3 visualization code\n",
        "plt.figure(figsize=(10, 8))\n",
        "plt.bar(data['Seasons'], data['Rented Bike Count'])\n",
        "plt.title('Bikes Rented in Diffrent Seasons')\n",
        "plt.show()"
      ],
      "metadata": {
        "id": "t6GMdE67YoAp"
      },
      "execution_count": null,
      "outputs": []
    },
    {
      "cell_type": "markdown",
      "source": [
        "##### 1. Why did you pick the specific chart?"
      ],
      "metadata": {
        "id": "fge-S5ZAYoAp"
      }
    },
    {
      "cell_type": "markdown",
      "source": [
        "A bar chart is chosen here to compare the number of rented bikes between different seasons. This visualization can help in understanding how bike rentals vary across seasons."
      ],
      "metadata": {
        "id": "5dBItgRVYoAp"
      }
    },
    {
      "cell_type": "markdown",
      "source": [
        "##### 2. What is/are the insight(s) found from the chart?"
      ],
      "metadata": {
        "id": "85gYPyotYoAp"
      }
    },
    {
      "cell_type": "markdown",
      "source": [
        "From the bar chart, we can see the number of bikes rented in each season. It appears that more bikes are rented during the autumn season, followed by summer, spring, and winter. This suggests that seasons have an impact on bike rental counts."
      ],
      "metadata": {
        "id": "4jstXR6OYoAp"
      }
    },
    {
      "cell_type": "markdown",
      "source": [
        "##### 3. Will the gained insights help creating a positive business impact?\n",
        "Are there any insights that lead to negative growth? Justify with specific reason."
      ],
      "metadata": {
        "id": "RoGjAbkUYoAp"
      }
    },
    {
      "cell_type": "markdown",
      "source": [
        "The insights from the bar chart can be useful for business planning:\n",
        "Understanding the variation in bike rentals across seasons can help in planning marketing campaigns and promotions tailored to each season's demand.\n",
        "However, if there are insights that indicate negative growth, such as lower rental counts in winter, strategies can be developed to incentivize rentals during these periods, such as offering winter-specific discounts or promotions to attract customers.\n",
        "Overall, the insights from this chart can help in optimizing bike rental services based on seasonal demand, potentially leading to increased revenue and customer satisfaction."
      ],
      "metadata": {
        "id": "zfJ8IqMcYoAp"
      }
    },
    {
      "cell_type": "markdown",
      "source": [
        "#### Chart - 4"
      ],
      "metadata": {
        "id": "4Of9eVA-YrdM"
      }
    },
    {
      "cell_type": "code",
      "source": [
        "# Chart - 4 visualization code\n",
        "plt.figure(figsize=(10, 8))\n",
        "sns.scatterplot(data=data, x='Temperature(°C)', y='Rented Bike Count')\n",
        "plt.title('Bikes Rented On Diffrent Temperature ')\n",
        "plt.show()"
      ],
      "metadata": {
        "id": "irlUoxc8YrdO"
      },
      "execution_count": null,
      "outputs": []
    },
    {
      "cell_type": "markdown",
      "source": [
        "##### 1. Why did you pick the specific chart?"
      ],
      "metadata": {
        "id": "iky9q4vBYrdO"
      }
    },
    {
      "cell_type": "markdown",
      "source": [
        "A scatter plot is chosen here to visualize the relationship between temperature and the number of rented bikes. This can help in understanding if there is any correlation between temperature and bike rental counts."
      ],
      "metadata": {
        "id": "aJRCwT6DYrdO"
      }
    },
    {
      "cell_type": "markdown",
      "source": [
        "##### 2. What is/are the insight(s) found from the chart?"
      ],
      "metadata": {
        "id": "F6T5p64dYrdO"
      }
    },
    {
      "cell_type": "markdown",
      "source": [
        "From the scatter plot, we can see the distribution of bike rental counts at different temperatures. There seems to be a positive correlation, indicating that as the temperature increases, the number of rented bikes also tends to increase. However, there are some fluctuations, suggesting that other factors may also influence bike rentals."
      ],
      "metadata": {
        "id": "Xx8WAJvtYrdO"
      }
    },
    {
      "cell_type": "markdown",
      "source": [
        "##### 3. Will the gained insights help creating a positive business impact?\n",
        "Are there any insights that lead to negative growth? Justify with specific reason."
      ],
      "metadata": {
        "id": "y-Ehk30pYrdP"
      }
    },
    {
      "cell_type": "markdown",
      "source": [
        "The insights gained from the scatter plot can be valuable for business planning:\n",
        "Understanding the positive correlation between temperature and bike rentals can help in seasonal planning, such as increasing bike availability during warmer months.\n",
        "However, fluctuations in the data indicate that other factors, such as rain or snow, may also impact bike rentals. This insight can help in developing strategies to mitigate the impact of adverse weather conditions on rental counts, potentially leading to more stable and reliable revenue streams.\n",
        "Overall, the insights from this chart can help in optimizing bike rental services based on weather conditions, leading to a positive business impact."
      ],
      "metadata": {
        "id": "jLNxxz7MYrdP"
      }
    },
    {
      "cell_type": "markdown",
      "source": [
        "#### Chart - 5"
      ],
      "metadata": {
        "id": "bamQiAODYuh1"
      }
    },
    {
      "cell_type": "code",
      "source": [
        "# Chart - 5 visualization code\n",
        "\n",
        "plt.figure(figsize=(10, 8))\n",
        "sns.scatterplot(data=data, x='Humidity(%)', y='Rented Bike Count')\n",
        "plt.title('Bike Rented Count in Humidity(%)')\n",
        "plt.show()"
      ],
      "metadata": {
        "id": "TIJwrbroYuh3"
      },
      "execution_count": null,
      "outputs": []
    },
    {
      "cell_type": "markdown",
      "source": [
        "##### 1. Why did you pick the specific chart?"
      ],
      "metadata": {
        "id": "QHF8YVU7Yuh3"
      }
    },
    {
      "cell_type": "markdown",
      "source": [
        "A scatter plot is chosen here to visualize the relationship between humidity and the number of rented bikes. This can help in understanding if there is any correlation between humidity levels and bike rental counts."
      ],
      "metadata": {
        "id": "dcxuIMRPYuh3"
      }
    },
    {
      "cell_type": "markdown",
      "source": [
        "##### 2. What is/are the insight(s) found from the chart?"
      ],
      "metadata": {
        "id": "GwzvFGzlYuh3"
      }
    },
    {
      "cell_type": "markdown",
      "source": [
        "From the scatter plot, we can see the distribution of bike rental counts at different humidity levels. There does not seem to be a strong correlation between humidity and bike rentals. The data points are scattered, indicating that humidity alone may not be a significant factor in determining bike rental counts."
      ],
      "metadata": {
        "id": "uyqkiB8YYuh3"
      }
    },
    {
      "cell_type": "markdown",
      "source": [
        "##### 3. Will the gained insights help creating a positive business impact?\n",
        "Are there any insights that lead to negative growth? Justify with specific reason."
      ],
      "metadata": {
        "id": "qYpmQ266Yuh3"
      }
    },
    {
      "cell_type": "markdown",
      "source": [
        "The insights from this scatter plot may have limited direct impact on business decisions related to bike rentals:\n",
        "Since there is no clear correlation between humidity and bike rentals, strategies aimed at humidity-specific promotions or operational changes may not yield significant results.\n",
        "However, this insight can help in understanding that other factors, such as temperature or season, may have a more significant impact on bike rental counts. This can guide further analysis and strategy development focusing on these more influential factors."
      ],
      "metadata": {
        "id": "_WtzZ_hCYuh4"
      }
    },
    {
      "cell_type": "markdown",
      "source": [
        "#### Chart - 6"
      ],
      "metadata": {
        "id": "OH-pJp9IphqM"
      }
    },
    {
      "cell_type": "code",
      "source": [
        "# Chart - 6 visualization code\n",
        "plt.figure(figsize=(10, 8))\n",
        "sns.scatterplot(data=data, x='Solar Radiation (MJ/m2)', y='Rented Bike Count')\n",
        "plt.title('Rented Bike Count on Solar Radiations')\n",
        "plt.show()"
      ],
      "metadata": {
        "id": "kuRf4wtuphqN"
      },
      "execution_count": null,
      "outputs": []
    },
    {
      "cell_type": "markdown",
      "source": [
        "##### 1. Why did you pick the specific chart?"
      ],
      "metadata": {
        "id": "bbFf2-_FphqN"
      }
    },
    {
      "cell_type": "markdown",
      "source": [
        "A scatter plot is chosen here to visualize the relationship between solar radiation and the number of rented bikes. This can help in understanding if there is any correlation between solar radiation levels and bike rental counts."
      ],
      "metadata": {
        "id": "loh7H2nzphqN"
      }
    },
    {
      "cell_type": "markdown",
      "source": [
        "##### 2. What is/are the insight(s) found from the chart?"
      ],
      "metadata": {
        "id": "_ouA3fa0phqN"
      }
    },
    {
      "cell_type": "markdown",
      "source": [
        "From the scatter plot, we can see the distribution of bike rental counts at different levels of solar radiation. There seems to be a positive correlation, indicating that as solar radiation levels increase, the number of rented bikes also tends to increase. However, there are some fluctuations, suggesting that other factors may also influence bike rentals."
      ],
      "metadata": {
        "id": "VECbqPI7phqN"
      }
    },
    {
      "cell_type": "markdown",
      "source": [
        "##### 3. Will the gained insights help creating a positive business impact?\n",
        "Are there any insights that lead to negative growth? Justify with specific reason."
      ],
      "metadata": {
        "id": "Seke61FWphqN"
      }
    },
    {
      "cell_type": "markdown",
      "source": [
        "The insights from this scatter plot can be valuable for business planning:\n",
        "Understanding the positive correlation between solar radiation and bike rentals can help in seasonal planning, such as increasing bike availability during sunnier days.\n",
        "However, fluctuations in the data indicate that other factors, such as temperature or humidity, may also impact bike rentals. This insight can help in developing strategies to optimize bike rental services based on multiple factors, potentially leading to more stable and reliable revenue streams.\n",
        "Overall, the insights from this chart can help in maximizing bike rental revenues by leveraging solar radiation data to optimize bike availability and marketing strategies."
      ],
      "metadata": {
        "id": "DW4_bGpfphqN"
      }
    },
    {
      "cell_type": "markdown",
      "source": [
        "#### Chart - 7"
      ],
      "metadata": {
        "id": "PIIx-8_IphqN"
      }
    },
    {
      "cell_type": "code",
      "source": [
        "# Chart - 7 visualization code\n",
        "plt.figure(figsize=(10, 8))\n",
        "sns.scatterplot(data=data, x='Rainfall(mm)', y='Rented Bike Count')\n",
        "plt.title('Rented Bike Count During Rainfall')\n",
        "plt.show()"
      ],
      "metadata": {
        "id": "lqAIGUfyphqO"
      },
      "execution_count": null,
      "outputs": []
    },
    {
      "cell_type": "markdown",
      "source": [
        "##### 1. Why did you pick the specific chart?"
      ],
      "metadata": {
        "id": "t27r6nlMphqO"
      }
    },
    {
      "cell_type": "markdown",
      "source": [
        "A scatter plot is chosen here to visualize the relationship between rainfall and the number of rented bikes. This can help in understanding if there is any correlation between rainfall levels and bike rental counts."
      ],
      "metadata": {
        "id": "iv6ro40sphqO"
      }
    },
    {
      "cell_type": "markdown",
      "source": [
        "##### 2. What is/are the insight(s) found from the chart?"
      ],
      "metadata": {
        "id": "r2jJGEOYphqO"
      }
    },
    {
      "cell_type": "markdown",
      "source": [
        "From the scatter plot, we can see the distribution of bike rental counts at different levels of rainfall. There seems to be a negative correlation, indicating that as rainfall levels increase, the number of rented bikes tends to decrease. However, there are some instances where bike rentals are higher even during rainfall, suggesting that other factors may also influence bike rentals."
      ],
      "metadata": {
        "id": "Po6ZPi4hphqO"
      }
    },
    {
      "cell_type": "markdown",
      "source": [
        "##### 3. Will the gained insights help creating a positive business impact?\n",
        "Are there any insights that lead to negative growth? Justify with specific reason."
      ],
      "metadata": {
        "id": "b0JNsNcRphqO"
      }
    },
    {
      "cell_type": "markdown",
      "source": [
        "The insights from this scatter plot can be useful for business planning:\n",
        "Understanding the negative correlation between rainfall and bike rentals can help in planning for rainy days, such as offering discounts or promotions to attract customers during these periods.\n",
        "However, it's important to note that there are instances where bike rentals are still high during rainfall, indicating that there may be opportunities to capitalize on this demand by offering rain-friendly biking options or services.\n",
        "Overall, the insights from this chart can help in optimizing bike rental services based on weather conditions, potentially leading to increased revenue and customer satisfaction, especially during adverse weather conditions like rainfall."
      ],
      "metadata": {
        "id": "xvSq8iUTphqO"
      }
    },
    {
      "cell_type": "markdown",
      "source": [
        "#### Chart - 8"
      ],
      "metadata": {
        "id": "BZR9WyysphqO"
      }
    },
    {
      "cell_type": "code",
      "source": [
        "# Chart - 8 visualization code\n",
        "plt.figure(figsize=(10, 8))\n",
        "sns.scatterplot(data=data, x='Snowfall (cm)', y='Rented Bike Count')\n",
        "plt.title('Rented Bike Count During Snowfall')\n",
        "plt.show()"
      ],
      "metadata": {
        "id": "TdPTWpAVphqO"
      },
      "execution_count": null,
      "outputs": []
    },
    {
      "cell_type": "markdown",
      "source": [
        "##### 1. Why did you pick the specific chart?"
      ],
      "metadata": {
        "id": "jj7wYXLtphqO"
      }
    },
    {
      "cell_type": "markdown",
      "source": [
        "A scatter plot is chosen here to visualize the relationship between snowfall and the number of rented bikes. This can help in understanding if there is any correlation between snowfall levels and bike rental counts."
      ],
      "metadata": {
        "id": "Ob8u6rCTphqO"
      }
    },
    {
      "cell_type": "markdown",
      "source": [
        "##### 2. What is/are the insight(s) found from the chart?"
      ],
      "metadata": {
        "id": "eZrbJ2SmphqO"
      }
    },
    {
      "cell_type": "markdown",
      "source": [
        "From the scatter plot, we can see the distribution of bike rental counts at different levels of snowfall. There seems to be a negative correlation, indicating that as snowfall levels increase, the number of rented bikes tends to decrease. However, there are some instances where bike rentals are higher even during snowfall, suggesting that other factors may also influence bike rentals."
      ],
      "metadata": {
        "id": "mZtgC_hjphqO"
      }
    },
    {
      "cell_type": "markdown",
      "source": [
        "##### 3. Will the gained insights help creating a positive business impact?\n",
        "Are there any insights that lead to negative growth? Justify with specific reason."
      ],
      "metadata": {
        "id": "rFu4xreNphqO"
      }
    },
    {
      "cell_type": "markdown",
      "source": [
        "The insights from this scatter plot can be useful for business planning:\n",
        "Understanding the negative correlation between snowfall and bike rentals can help in planning for snowy days, such as offering snow-friendly biking options or services to attract customers during these periods.\n",
        "However, it's important to note that there are instances where bike rentals are still high during snowfall, indicating that there may be opportunities to capitalize on this demand by offering unique snow-related biking experiences.\n",
        "Overall, the insights from this chart can help in optimizing bike rental services based on weather conditions, potentially leading to increased revenue and customer satisfaction, especially during adverse weather conditions like snowfall."
      ],
      "metadata": {
        "id": "ey_0qi68phqO"
      }
    },
    {
      "cell_type": "markdown",
      "source": [
        "#### Chart - 9"
      ],
      "metadata": {
        "id": "YJ55k-q6phqO"
      }
    },
    {
      "cell_type": "code",
      "source": [
        "# Chart - 9 visualization code\n",
        "plt.figure(figsize=(10, 8))\n",
        "sns.barplot(data=data, x='Hour', y='Rented Bike Count',color='orange')\n",
        "plt.title('Rented Bike Count in diffrent Hours of Day')\n",
        "plt.xticks(rotation=45)  # Rotate x-axis labels\n",
        "plt.show()\n"
      ],
      "metadata": {
        "id": "B2aS4O1ophqO"
      },
      "execution_count": null,
      "outputs": []
    },
    {
      "cell_type": "markdown",
      "source": [
        "##### 1. Why did you pick the specific chart?"
      ],
      "metadata": {
        "id": "gCFgpxoyphqP"
      }
    },
    {
      "cell_type": "markdown",
      "source": [
        "A bar plot is chosen here to visualize the distribution of bike rentals across different hours of the day. This can help in understanding the peak hours of bike rentals."
      ],
      "metadata": {
        "id": "TVxDimi2phqP"
      }
    },
    {
      "cell_type": "markdown",
      "source": [
        "##### 2. What is/are the insight(s) found from the chart?"
      ],
      "metadata": {
        "id": "OVtJsKN_phqQ"
      }
    },
    {
      "cell_type": "markdown",
      "source": [
        "From the bar plot, we can see the variation in bike rental counts across different hours of the day. There seems to be a peak during the late afternoon hours, suggesting that this is a popular time for bike rentals. The early morning and late evening hours show lower rental counts, indicating less demand during these times."
      ],
      "metadata": {
        "id": "ngGi97qjphqQ"
      }
    },
    {
      "cell_type": "markdown",
      "source": [
        "##### 3. Will the gained insights help creating a positive business impact?\n",
        "Are there any insights that lead to negative growth? Justify with specific reason."
      ],
      "metadata": {
        "id": "lssrdh5qphqQ"
      }
    },
    {
      "cell_type": "markdown",
      "source": [
        "The insights from this bar plot can be valuable for business planning:\n",
        "Understanding the peak hours of bike rentals can help in allocating resources, such as increasing bike availability and staff during these times to meet the high demand.\n",
        "However, it's important to note that there are periods, such as early morning and late evening, with lower rental counts. Strategies can be developed to incentivize rentals during these off-peak hours, such as offering discounts or promotions to attract customers.\n",
        "Overall, the insights from this chart can help in optimizing bike rental services based on hourly demand patterns, potentially leading to increased revenue and customer satisfaction."
      ],
      "metadata": {
        "id": "tBpY5ekJphqQ"
      }
    },
    {
      "cell_type": "markdown",
      "source": [
        "#### Chart - 10"
      ],
      "metadata": {
        "id": "U2RJ9gkRphqQ"
      }
    },
    {
      "cell_type": "code",
      "source": [
        "# Chart - 10 visualization code\n",
        "# Grouping by 'DayOfWeek' and summing 'Rented Bike Count'\n",
        "rentals_per_day = data.groupby('DayOfWeek')['Rented Bike Count'].mean()\n",
        "\n",
        "# Plotting the bar plot\n",
        "plt.figure(figsize=(10, 8))\n",
        "plt.bar(rentals_per_day.index, rentals_per_day.values, color='skyblue')\n",
        "plt.xlabel('Day of Week')\n",
        "plt.ylabel('Total Rented Bike Count')\n",
        "plt.title('Average Rented Bike Count by Day of Week')\n",
        "plt.xticks(range(7), ['Monday', 'Tuesday', 'Wednesday', 'Thursday', 'Friday', 'Saturday', 'Sunday'])\n",
        "plt.show()"
      ],
      "metadata": {
        "id": "GM7a4YP4phqQ"
      },
      "execution_count": null,
      "outputs": []
    },
    {
      "cell_type": "markdown",
      "source": [
        "##### 1. Why did you pick the specific chart?"
      ],
      "metadata": {
        "id": "1M8mcRywphqQ"
      }
    },
    {
      "cell_type": "markdown",
      "source": [
        "A bar plot is suitable for comparing the average rented bike count across different days of the week. It helps in understanding the average demand for bikes on each day."
      ],
      "metadata": {
        "id": "8agQvks0phqQ"
      }
    },
    {
      "cell_type": "markdown",
      "source": [
        "##### 2. What is/are the insight(s) found from the chart?"
      ],
      "metadata": {
        "id": "tgIPom80phqQ"
      }
    },
    {
      "cell_type": "markdown",
      "source": [
        "The bar plot shows the average rented bike count for each day of the week. It provides insights into the variation in bike rental demand throughout the week."
      ],
      "metadata": {
        "id": "Qp13pnNzphqQ"
      }
    },
    {
      "cell_type": "markdown",
      "source": [
        "##### 3. Will the gained insights help creating a positive business impact?\n",
        "Are there any insights that lead to negative growth? Justify with specific reason."
      ],
      "metadata": {
        "id": "JMzcOPDDphqR"
      }
    },
    {
      "cell_type": "markdown",
      "source": [
        "Yes, understanding the variation in bike rental demand throughout the week can help businesses optimize their bike inventory and staffing levels. For example, they can allocate more resources on days with higher demand and reduce resources on days with lower demand, leading to cost savings and improved customer satisfaction.\n",
        "\n",
        "If the bar plot shows that bike rental demand is consistently low on certain days (e.g., weekdays), it could lead to negative growth. However, this would depend on the overall demand and the business's ability to adjust its operations to match the demand."
      ],
      "metadata": {
        "id": "R4Ka1PC2phqR"
      }
    },
    {
      "cell_type": "markdown",
      "source": [
        "#### Chart - 11"
      ],
      "metadata": {
        "id": "x-EpHcCOp1ci"
      }
    },
    {
      "cell_type": "code",
      "source": [
        "# Convert 'Temperature(°C)' column to numeric, coerce errors to NaN\n",
        "data['Temperature(°C)'] = pd.to_numeric(data['Temperature(°C)'], errors='coerce')\n",
        "\n",
        "# Remove rows with NaN values in 'Temperature(°C)' column\n",
        "data.dropna(subset=['Temperature(°C)'], inplace=True)\n",
        "\n",
        "# Plotting the graph\n",
        "plt.figure(figsize=(12, 7))\n",
        "data.groupby(['Month'])['Temperature(°C)'].mean().plot(kind='bar', color='orange')\n",
        "plt.title(\"Temperature for different month\", color='orange', fontsize=15)\n",
        "plt.xlabel('Month')\n",
        "plt.ylabel('Mean Temperature (°C)')\n",
        "plt.xticks(rotation=0)\n",
        "plt.show()\n"
      ],
      "metadata": {
        "id": "PCFeNmNhP0Vj"
      },
      "execution_count": null,
      "outputs": []
    },
    {
      "cell_type": "markdown",
      "source": [
        "##### 1. Why did you pick the specific chart?"
      ],
      "metadata": {
        "id": "X_VqEhTip1ck"
      }
    },
    {
      "cell_type": "markdown",
      "source": [
        "A bar plot is chosen here to visualize the average temperature for each month. This can help in understanding the temperature trends throughout the year."
      ],
      "metadata": {
        "id": "-vsMzt_np1ck"
      }
    },
    {
      "cell_type": "markdown",
      "source": [
        "##### 2. What is/are the insight(s) found from the chart?"
      ],
      "metadata": {
        "id": "8zGJKyg5p1ck"
      }
    },
    {
      "cell_type": "markdown",
      "source": [
        "From the bar plot, we can see the average temperature for each month. It appears that the temperature is higher during the summer months (June, July, August) and lower during the winter months (December, January, February)."
      ],
      "metadata": {
        "id": "ZYdMsrqVp1ck"
      }
    },
    {
      "cell_type": "markdown",
      "source": [
        "##### 3. Will the gained insights help creating a positive business impact?\n",
        "Are there any insights that lead to negative growth? Justify with specific reason."
      ],
      "metadata": {
        "id": "PVzmfK_Ep1ck"
      }
    },
    {
      "cell_type": "markdown",
      "source": [
        "The insights from this bar plot can be useful for business planning:\n",
        "Understanding the temperature trends can help in anticipating seasonal changes in demand for bike rentals. For example, higher temperatures during the summer months may lead to increased demand for bike rentals, while lower temperatures during the winter months may result in decreased demand.\n",
        "By aligning bike availability and marketing strategies with temperature trends, businesses can optimize their operations to meet customer demand, potentially leading to increased revenue and customer satisfaction.\n",
        "Overall, the insights from this chart can help in optimizing bike rental services based on seasonal temperature variations, leading to a positive business impact."
      ],
      "metadata": {
        "id": "druuKYZpp1ck"
      }
    },
    {
      "cell_type": "markdown",
      "source": [
        "#### Chart - 12"
      ],
      "metadata": {
        "id": "n3dbpmDWp1ck"
      }
    },
    {
      "cell_type": "code",
      "source": [
        "data.columns"
      ],
      "metadata": {
        "id": "9ZB_OKldmlj6"
      },
      "execution_count": null,
      "outputs": []
    },
    {
      "cell_type": "code",
      "source": [
        "# Chart - 12 visualization code\n",
        "# Grouping by holidays and summing 'Rented Bike Count'\n",
        "bookings_on_holidays= data.groupby('Holiday')['Rented Bike Count'].sum()\n",
        "\n",
        "# Plotting the scatter plot\n",
        "plt.figure(figsize=(10, 8))\n",
        "plt.pie( bookings_on_holidays.values, labels=bookings_on_holidays.index, autopct='%1.1f%%', colors=['skyblue', 'orange'])\n",
        "plt.title('Total Bikes Rented on Holidays and working days')\n",
        "plt.show()"
      ],
      "metadata": {
        "id": "vhCgHLIdmd90"
      },
      "execution_count": null,
      "outputs": []
    },
    {
      "cell_type": "markdown",
      "source": [
        "##### 1. Why did you pick the specific chart?"
      ],
      "metadata": {
        "id": "ylSl6qgtp1ck"
      }
    },
    {
      "cell_type": "markdown",
      "source": [
        "A pie chart is suitable for showing the proportion of a whole (total bike bookings) that is accounted for by different categories (holidays vs. non-holidays). It helps in understanding the contribution of holidays to total bike bookings."
      ],
      "metadata": {
        "id": "m2xqNkiQp1ck"
      }
    },
    {
      "cell_type": "markdown",
      "source": [
        "##### 2. What is/are the insight(s) found from the chart?"
      ],
      "metadata": {
        "id": "ZWILFDl5p1ck"
      }
    },
    {
      "cell_type": "markdown",
      "source": [
        "The pie chart shows the distribution of bike bookings on holidays compared to non-holidays. It helps in understanding the relative importance of holidays in driving bike bookings."
      ],
      "metadata": {
        "id": "x-lUsV2mp1ck"
      }
    },
    {
      "cell_type": "markdown",
      "source": [
        "##### 3. Will the gained insights help creating a positive business impact?\n",
        "Are there any insights that lead to negative growth? Justify with specific reason."
      ],
      "metadata": {
        "id": "M7G43BXep1ck"
      }
    },
    {
      "cell_type": "markdown",
      "source": [
        "Yes, understanding the proportion of bike bookings that occur on holidays can help businesses make decisions related to resource allocation and marketing strategies. For example, they can offer special promotions or discounts on holidays to attract more customers and increase bookings.\n",
        "\n",
        "If the pie chart shows that a very small proportion of bike bookings occur on holidays, it could lead to negative growth. Businesses might need to reevaluate their holiday marketing strategies to increase bookings on holidays and maximize revenue potential."
      ],
      "metadata": {
        "id": "5wwDJXsLp1cl"
      }
    },
    {
      "cell_type": "markdown",
      "source": [
        "#### Chart - 13"
      ],
      "metadata": {
        "id": "Ag9LCva-p1cl"
      }
    },
    {
      "cell_type": "code",
      "source": [
        "# Chart - 13 visualization code\n",
        "booking_months= data.groupby('Month')['Rented Bike Count'].sum()\n",
        "months = ['jan','feb','mar','april','may','june','jully','aug','sept','oct','nov','dec']\n",
        "# Plotting the scatter plot\n",
        "plt.figure(figsize=(10, 6))\n",
        "plt.plot( months , booking_months.values)\n",
        "plt.title('Bikes Rented in Diffrent Months Of year')\n",
        "plt.show()"
      ],
      "metadata": {
        "id": "EUfxeq9-p1cl"
      },
      "execution_count": null,
      "outputs": []
    },
    {
      "cell_type": "markdown",
      "source": [
        "##### 1. Why did you pick the specific chart?"
      ],
      "metadata": {
        "id": "E6MkPsBcp1cl"
      }
    },
    {
      "cell_type": "markdown",
      "source": [
        "A line plot is suitable for showing trends over time, in this case, the total bike bookings by month. It helps in understanding the variation in bike bookings across different months."
      ],
      "metadata": {
        "id": "V22bRsFWp1cl"
      }
    },
    {
      "cell_type": "markdown",
      "source": [
        "##### 2. What is/are the insight(s) found from the chart?"
      ],
      "metadata": {
        "id": "2cELzS2fp1cl"
      }
    },
    {
      "cell_type": "markdown",
      "source": [
        "The line plot shows the trend in total bike bookings across different months. It helps in identifying any seasonal patterns or trends in bike bookings."
      ],
      "metadata": {
        "id": "ozQPc2_Ip1cl"
      }
    },
    {
      "cell_type": "markdown",
      "source": [
        "##### 3. Will the gained insights help creating a positive business impact?\n",
        "Are there any insights that lead to negative growth? Justify with specific reason."
      ],
      "metadata": {
        "id": "3MPXvC8up1cl"
      }
    },
    {
      "cell_type": "markdown",
      "source": [
        " Yes, understanding the seasonal patterns in bike bookings can help businesses make decisions related to inventory management, staffing, and marketing. For example, they can increase bike availability and staffing during peak months to meet the higher demand.\n",
        "\n",
        "If the line plot shows a consistent decline in bike bookings over several months, it could lead to negative growth. Businesses would need to investigate the reasons for the decline and take corrective actions to reverse the trend."
      ],
      "metadata": {
        "id": "GL8l1tdLp1cl"
      }
    },
    {
      "cell_type": "markdown",
      "source": [
        "#### Chart - 14 - Correlation Heatmap"
      ],
      "metadata": {
        "id": "NC_X3p0fY2L0"
      }
    },
    {
      "cell_type": "code",
      "source": [
        "# Drop categorical columns before calculating correlation matrix\n",
        "data_numeric = data.drop(['Seasons', 'Holiday', 'Functioning Day'], axis=1)\n",
        "\n",
        "# Calculate the correlation matrix\n",
        "corr = data_numeric.corr()\n",
        "\n",
        "# Plot the heatmap\n",
        "plt.figure(figsize=(12, 8))\n",
        "sns.heatmap(corr, annot=True, cmap='coolwarm', fmt=\".2f\")\n",
        "plt.title('Correlation Heatmap')\n",
        "plt.show()\n"
      ],
      "metadata": {
        "id": "3zzcS71WoV7J"
      },
      "execution_count": null,
      "outputs": []
    },
    {
      "cell_type": "markdown",
      "source": [
        "##### 1. Why did you pick the specific chart?"
      ],
      "metadata": {
        "id": "UV0SzAkaZNRQ"
      }
    },
    {
      "cell_type": "markdown",
      "source": [
        "A heatmap is suitable for visualizing the correlation between different variables in a dataset. It helps in understanding the strength and direction of relationships between variables."
      ],
      "metadata": {
        "id": "DVPuT8LYZNRQ"
      }
    },
    {
      "cell_type": "markdown",
      "source": [
        "##### 2. What is/are the insight(s) found from the chart?"
      ],
      "metadata": {
        "id": "YPEH6qLeZNRQ"
      }
    },
    {
      "cell_type": "markdown",
      "source": [
        "The heatmap shows the correlation coefficients between pairs of variables. Positive values indicate a positive correlation (as one variable increases, the other also tends to increase), while negative values indicate a negative correlation (as one variable increases, the other tends to decrease). Values closer to 1 or -1 indicate a stronger correlation."
      ],
      "metadata": {
        "id": "bfSqtnDqZNRR"
      }
    },
    {
      "cell_type": "markdown",
      "source": [
        "#### Chart - 15 - Pair Plot"
      ],
      "metadata": {
        "id": "q29F0dvdveiT"
      }
    },
    {
      "cell_type": "code",
      "source": [
        "# Pair Plot visualization code\n",
        "# Selecting a subset of columns for pair plotting\n",
        "cols_for_pairplot = ['Rented Bike Count', 'Hour', 'Temperature(°C)', 'Humidity(%)',\n",
        "       'Wind speed (m/s)', 'Visibility (10m)', 'Dew point temperature(°C)',\n",
        "       'Solar Radiation (MJ/m2)', 'Rainfall(mm)', 'Snowfall (cm)']\n",
        "\n",
        "# Creating the pair plot\n",
        "sns.pairplot(data[cols_for_pairplot])\n",
        "plt.show()"
      ],
      "metadata": {
        "id": "o58-TEIhveiU"
      },
      "execution_count": null,
      "outputs": []
    },
    {
      "cell_type": "markdown",
      "source": [
        "##### 1. Why did you pick the specific chart?"
      ],
      "metadata": {
        "id": "EXh0U9oCveiU"
      }
    },
    {
      "cell_type": "markdown",
      "source": [
        "A pair plot is suitable for visualizing the relationships between multiple variables in a dataset. It helps in understanding how different variables are related to each other and can reveal patterns or trends in the data."
      ],
      "metadata": {
        "id": "eMmPjTByveiU"
      }
    },
    {
      "cell_type": "markdown",
      "source": [
        "##### 2. What is/are the insight(s) found from the chart?"
      ],
      "metadata": {
        "id": "22aHeOlLveiV"
      }
    },
    {
      "cell_type": "markdown",
      "source": [
        "The pair plot shows scatterplots for each pair of variables and histograms for each individual variable along the diagonal. It helps in identifying correlations between variables and understanding the distribution of each variable."
      ],
      "metadata": {
        "id": "uPQ8RGwHveiV"
      }
    },
    {
      "cell_type": "markdown",
      "source": [
        "## ***5. Hypothesis Testing***"
      ],
      "metadata": {
        "id": "g-ATYxFrGrvw"
      }
    },
    {
      "cell_type": "markdown",
      "source": [
        "### Based on your chart experiments, define three hypothetical statements from the dataset. In the next three questions, perform hypothesis testing to obtain final conclusion about the statements through your code and statistical testing."
      ],
      "metadata": {
        "id": "Yfr_Vlr8HBkt"
      }
    },
    {
      "cell_type": "markdown",
      "source": [
        "Answer Here."
      ],
      "metadata": {
        "id": "-7MS06SUHkB-"
      }
    },
    {
      "cell_type": "markdown",
      "source": [
        "### Hypothetical Statement - 1"
      ],
      "metadata": {
        "id": "8yEUt7NnHlrM"
      }
    },
    {
      "cell_type": "markdown",
      "source": [
        "#### 1. research hypothesis as a null hypothesis and alternate hypothesis."
      ],
      "metadata": {
        "id": "tEA2Xm5dHt1r"
      }
    },
    {
      "cell_type": "markdown",
      "source": [
        "**Null Hypothesis (H0):** The mean number of rented bikes on weekends is equal to the mean number of rented bikes on weekdays.\n",
        "\n",
        "**Alternative Hypothesis (H1):** The mean number of rented bikes on weekends is higher than the mean number of rented bikes on weekdays."
      ],
      "metadata": {
        "id": "HI9ZP0laH0D-"
      }
    },
    {
      "cell_type": "markdown",
      "source": [
        "#### 2. Perform an appropriate statistical test."
      ],
      "metadata": {
        "id": "I79__PHVH19G"
      }
    },
    {
      "cell_type": "code",
      "source": [
        "# Perform Statistical Test to obtain P-Value\n",
        "import scipy.stats as stats\n",
        "\n",
        "weekend_data = data[(data['DayOfWeek'] == 5) | (data['DayOfWeek'] == 6)]['Rented Bike Count']\n",
        "weekday_data = data[(data['DayOfWeek'] >= 0) & (data['DayOfWeek'] <= 4)]['Rented Bike Count']\n",
        "\n",
        "t_stat, p_val = stats.ttest_ind(weekend_data, weekday_data, alternative='greater')\n",
        "alpha = 0.05\n",
        "\n",
        "if p_val < alpha:\n",
        "    print(\"Reject null hypothesis. There is sufficient evidence to suggest that the demand for rented bikes is higher on weekends.\")\n",
        "else:\n",
        "    print(\"Fail to reject null hypothesis. There is not enough evidence to suggest that the demand for rented bikes is higher on weekends.\")\n"
      ],
      "metadata": {
        "id": "oZrfquKtyian"
      },
      "execution_count": null,
      "outputs": []
    },
    {
      "cell_type": "markdown",
      "source": [
        "##### Which statistical test have you done to obtain P-Value?"
      ],
      "metadata": {
        "id": "Ou-I18pAyIpj"
      }
    },
    {
      "cell_type": "markdown",
      "source": [
        "The p-value obtained from this test indicates the probability of observing the data (or more extreme results) if the null hypothesis is true. If the p-value is less than the chosen significance level (e.g., 0.05), we reject the null hypothesis."
      ],
      "metadata": {
        "id": "s2U0kk00ygSB"
      }
    },
    {
      "cell_type": "markdown",
      "source": [
        "##### Why did you choose the specific statistical test?"
      ],
      "metadata": {
        "id": "fF3858GYyt-u"
      }
    },
    {
      "cell_type": "markdown",
      "source": [
        "I chose the independent samples t-test because it is suitable for comparing the means of two independent groups, which is exactly what we need to do in this scenario.\n",
        "\n",
        "In Statement 1, we are comparing the mean number of rented bikes on weekends (Saturday and Sunday) to the mean number of rented bikes on weekdays (Monday to Friday). Since the two groups (weekends and weekdays) are independent of each other (the number of rented bikes on one day does not affect the number on another day), an independent samples t-test is appropriate.\n",
        "\n",
        "The null hypothesis assumes that the mean number of rented bikes on weekends is equal to the mean number on weekdays, while the alternative hypothesis suggests that the mean number on weekends is higher than weekdays. The t-test allows us to determine if there is enough statistical evidence to reject the null hypothesis in favor of the alternative hypothesis based on the observed data."
      ],
      "metadata": {
        "id": "HO4K0gP5y3B4"
      }
    },
    {
      "cell_type": "markdown",
      "source": [
        "### Hypothetical Statement - 2"
      ],
      "metadata": {
        "id": "4_0_7-oCpUZd"
      }
    },
    {
      "cell_type": "markdown",
      "source": [
        "#### 1.research hypothesis as a null hypothesis and alternate hypothesis."
      ],
      "metadata": {
        "id": "hwyV_J3ipUZe"
      }
    },
    {
      "cell_type": "markdown",
      "source": [
        "**Null Hypothesis (H0):** There is no correlation between temperature and the number of rented bikes.\n",
        "\n",
        "**Alternative Hypothesis (H1):** There is a positive correlation between temperature and the number of rented bikes."
      ],
      "metadata": {
        "id": "FnpLGJ-4pUZe"
      }
    },
    {
      "cell_type": "markdown",
      "source": [
        "#### 2. Perform an appropriate statistical test."
      ],
      "metadata": {
        "id": "3yB-zSqbpUZe"
      }
    },
    {
      "cell_type": "code",
      "source": [
        "# Perform Statistical Test to obtain P-Value\n",
        "corr, p_val = stats.pearsonr(data['Temperature(°C)'], data['Rented Bike Count'])\n",
        "\n",
        "if p_val < alpha:\n",
        "    print(\"Reject null hypothesis. There is a positive correlation between temperature and the number of rented bikes.\")\n",
        "else:\n",
        "    print(\"Fail to reject null hypothesis. There is no significant correlation between temperature and the number of rented bikes.\")\n"
      ],
      "metadata": {
        "id": "sWxdNTXNpUZe"
      },
      "execution_count": null,
      "outputs": []
    },
    {
      "cell_type": "markdown",
      "source": [
        "##### Which statistical test have you done to obtain P-Value?"
      ],
      "metadata": {
        "id": "dEUvejAfpUZe"
      }
    },
    {
      "cell_type": "markdown",
      "source": [
        "Pearson's correlation coefficient is a measure of the strength and direction of the linear relationship between two variables. The test computes the correlation coefficient and its associated p-value. If the p-value is less than the chosen significance level (e.g., 0.05), we reject the null hypothesis and conclude that there is a significant correlation between temperature and the number of rented bikes."
      ],
      "metadata": {
        "id": "oLDrPz7HpUZf"
      }
    },
    {
      "cell_type": "markdown",
      "source": [
        "##### Why did you choose the specific statistical test?"
      ],
      "metadata": {
        "id": "Fd15vwWVpUZf"
      }
    },
    {
      "cell_type": "markdown",
      "source": [
        "I chose Pearson's correlation coefficient test for Statement 2 (\"There is a positive correlation between temperature and the number of rented bikes\") because it is commonly used to measure the strength and direction of a linear relationship between two continuous variables.\n",
        "\n",
        "In this case, we are interested in understanding if there is a relationship between the temperature (a continuous variable) and the number of rented bikes (also a continuous variable). The Pearson correlation coefficient (r) ranges from -1 to 1, where:\n",
        "\n",
        "r = 1 indicates a perfect positive linear relationship,\n",
        "r = -1 indicates a perfect negative linear relationship, and\n",
        "r = 0 indicates no linear relationship.\n",
        "The null hypothesis assumes that there is no correlation between temperature and the number of rented bikes (r = 0), while the alternative hypothesis suggests a positive correlation (r > 0). By conducting the Pearson's correlation test and examining the p-value, we can determine if there is enough evidence to reject the null hypothesis and conclude that there is a significant positive correlation between temperature and the number of rented bikes."
      ],
      "metadata": {
        "id": "4xOGYyiBpUZf"
      }
    },
    {
      "cell_type": "markdown",
      "source": [
        "### Hypothetical Statement - 3"
      ],
      "metadata": {
        "id": "bn_IUdTipZyH"
      }
    },
    {
      "cell_type": "markdown",
      "source": [
        "#### 1. research hypothesis as a null hypothesis and alternate hypothesis."
      ],
      "metadata": {
        "id": "49K5P_iCpZyH"
      }
    },
    {
      "cell_type": "markdown",
      "source": [
        "**Null Hypothesis (H0):** There is no difference in the mean number of rented bikes on rainy days compared to non-rainy days.\n",
        "\n",
        "**Alternative Hypothesis (H1):** The mean number of rented bikes is lower on rainy days compared to non-rainy days."
      ],
      "metadata": {
        "id": "7gWI5rT9pZyH"
      }
    },
    {
      "cell_type": "markdown",
      "source": [
        "#### 2. Perform an appropriate statistical test."
      ],
      "metadata": {
        "id": "Nff-vKELpZyI"
      }
    },
    {
      "cell_type": "code",
      "source": [
        "# Perform Statistical Test to obtain P-Value\n",
        "rainy_data = data[data['Rainfall(mm)'] > 0]['Rented Bike Count']\n",
        "non_rainy_data = data[data['Rainfall(mm)'] == 0]['Rented Bike Count']\n",
        "\n",
        "t_stat, p_val = stats.ttest_ind(rainy_data, non_rainy_data, alternative='less')\n",
        "\n",
        "if p_val < alpha:\n",
        "    print(\"Reject null hypothesis. The presence of rainfall negatively affects the number of rented bikes.\")\n",
        "else:\n",
        "    print(\"Fail to reject null hypothesis. There is no significant difference in the mean number of rented bikes on rainy days compared to non-rainy days.\")"
      ],
      "metadata": {
        "id": "s6AnJQjtpZyI"
      },
      "execution_count": null,
      "outputs": []
    },
    {
      "cell_type": "markdown",
      "source": [
        "##### Which statistical test have you done to obtain P-Value?"
      ],
      "metadata": {
        "id": "kLW572S8pZyI"
      }
    },
    {
      "cell_type": "markdown",
      "source": [
        " I have used an independent samples t-test to obtain the p-value"
      ],
      "metadata": {
        "id": "ytWJ8v15pZyI"
      }
    },
    {
      "cell_type": "markdown",
      "source": [
        "##### Why did you choose the specific statistical test?"
      ],
      "metadata": {
        "id": "dWbDXHzopZyI"
      }
    },
    {
      "cell_type": "markdown",
      "source": [
        "I chose the two-sample t-test to compare the mean number of rented bikes on rainy days to the mean number on non-rainy days. Here's why it's appropriate:\n",
        "\n",
        "**1) Nature of the Data:** The data for the number of rented bikes is continuous and numerical, making it suitable for a t-test.\n",
        "\n",
        "**2) Comparison of Means:**We are interested in comparing the mean number of rented bikes between two independent groups (rainy days and non-rainy days).\n",
        "\n",
        "**3) Assumption of Normality:**The t-test assumes that the data in each group is normally distributed. While this assumption may not be perfectly met, the t-test is robust to deviations from normality, especially with large sample sizes.\n",
        "\n",
        "**4) Independence:** The observations in each group are assumed to be independent of each other, which is satisfied in this case.\n",
        "\n",
        "**5) Two-Tailed Test:** The alternative='less' parameter indicates that we are testing if the mean number of rented bikes on rainy days is less than the mean on non-rainy days, aligning with the hypothesis that rainfall negatively affects the number of rented bikes."
      ],
      "metadata": {
        "id": "M99G98V6pZyI"
      }
    },
    {
      "cell_type": "markdown",
      "source": [
        "## ***6. Feature Engineering & Data Pre-processing***"
      ],
      "metadata": {
        "id": "yLjJCtPM0KBk"
      }
    },
    {
      "cell_type": "markdown",
      "source": [
        "### 1. Handling Missing Values"
      ],
      "metadata": {
        "id": "xiyOF9F70UgQ"
      }
    },
    {
      "cell_type": "code",
      "source": [
        "# Handling Missing Values & Missing Value Imputation\n",
        "data.isnull().sum()"
      ],
      "metadata": {
        "id": "iRsAHk1K0fpS"
      },
      "execution_count": null,
      "outputs": []
    },
    {
      "cell_type": "markdown",
      "source": [
        "#### What all missing value imputation techniques have you used and why did you use those techniques?"
      ],
      "metadata": {
        "id": "7wuGOrhz0itI"
      }
    },
    {
      "cell_type": "markdown",
      "source": [
        "There are no missing values present in this data"
      ],
      "metadata": {
        "id": "1ixusLtI0pqI"
      }
    },
    {
      "cell_type": "markdown",
      "source": [
        "### 2. Handling Outliers"
      ],
      "metadata": {
        "id": "id1riN9m0vUs"
      }
    },
    {
      "cell_type": "code",
      "source": [
        "# Handling Outliers & Outlier treatments\n",
        "data.columns"
      ],
      "metadata": {
        "id": "M6w2CzZf04JK"
      },
      "execution_count": null,
      "outputs": []
    },
    {
      "cell_type": "code",
      "source": [
        "# Selecting numeric columns for box plot\n",
        "numeric_cols = ['Rented Bike Count', 'Hour', 'Temperature(°C)', 'Humidity(%)',\n",
        "                'Wind speed (m/s)', 'Visibility (10m)', 'Dew point temperature(°C)',\n",
        "                'Solar Radiation (MJ/m2)', 'Rainfall(mm)', 'Snowfall (cm)']\n",
        "\n",
        "# Creating box plots for each numeric column\n",
        "plt.figure(figsize=(20, 10))\n",
        "for i, col in enumerate(numeric_cols, 1):\n",
        "    plt.subplot(3, 4, i)\n",
        "    sns.boxplot(x=data[col])\n",
        "    plt.title(col)\n",
        "plt.tight_layout()\n",
        "plt.show()"
      ],
      "metadata": {
        "id": "O0TIo_FPQtal"
      },
      "execution_count": null,
      "outputs": []
    },
    {
      "cell_type": "code",
      "source": [
        "from scipy import stats\n",
        "\n",
        "# Calculating z-scores for each numeric column\n",
        "z_scores = stats.zscore(data[numeric_cols])\n",
        "\n",
        "# Finding outliers based on z-score threshold\n",
        "threshold = 3\n",
        "outliers = (abs(z_scores) > threshold).any(axis=1)\n",
        "\n",
        "# Displaying rows with outliers\n",
        "outlier_data = data[outliers]\n",
        "outlier_data"
      ],
      "metadata": {
        "id": "L_0aTdHsQ6Re"
      },
      "execution_count": null,
      "outputs": []
    },
    {
      "cell_type": "code",
      "source": [
        "# Remove outliers based on z-score\n",
        "filtered_data = data[(abs(z_scores) <= threshold).all(axis=1)]"
      ],
      "metadata": {
        "id": "9vKcZ-DxRFQ6"
      },
      "execution_count": null,
      "outputs": []
    },
    {
      "cell_type": "code",
      "source": [
        "data = filtered_data"
      ],
      "metadata": {
        "id": "jlzoCogCRFD-"
      },
      "execution_count": null,
      "outputs": []
    },
    {
      "cell_type": "markdown",
      "source": [
        "##### What all outlier treatment techniques have you used and why did you use those techniques?"
      ],
      "metadata": {
        "id": "578E2V7j08f6"
      }
    },
    {
      "cell_type": "markdown",
      "source": [
        "I used a simple technique to remove outliers based on the z-score threshold. This technique removes rows where any of the z-scores in the numeric columns exceed the threshold.\n",
        "I used the technique of removing outliers based on z-scores in this case because it is a straightforward method and helps maintain the integrity of the data distribution.\n"
      ],
      "metadata": {
        "id": "uGZz5OrT1HH-"
      }
    },
    {
      "cell_type": "markdown",
      "source": [
        "### 3. Categorical Encoding"
      ],
      "metadata": {
        "id": "89xtkJwZ18nB"
      }
    },
    {
      "cell_type": "code",
      "source": [
        "# Encode your categorical columns\n",
        "# Label encoding using lambda function\n",
        "from sklearn.preprocessing import LabelEncoder\n",
        "data['Holiday']=data['Holiday'].apply(lambda x:0 if x=='No Holiday' else 1)\n",
        "data['Functioning Day']=data['Functioning Day'].apply(lambda x:0 if x=='No' else 1)\n",
        "labelencoder=LabelEncoder()\n",
        "data['Seasons']=labelencoder.fit_transform(data['Seasons'])"
      ],
      "metadata": {
        "id": "21JmIYMG2hEo"
      },
      "execution_count": null,
      "outputs": []
    },
    {
      "cell_type": "code",
      "source": [
        "data.info()"
      ],
      "metadata": {
        "id": "qvITEQxjSdbq"
      },
      "execution_count": null,
      "outputs": []
    },
    {
      "cell_type": "markdown",
      "source": [
        "#### What all categorical encoding techniques have you used & why did you use those techniques?"
      ],
      "metadata": {
        "id": "67NQN5KX2AMe"
      }
    },
    {
      "cell_type": "markdown",
      "source": [
        "Label encoding assigns a unique integer to each category, allowing the model to understand the ordinal relationship between categories. For example, in the 'Seasons' column, the categories 'Spring', 'Summer', 'Fall', and 'Winter' can be encoded as 0, 1, 2, and 3 respectively, indicating the order of the seasons.\n",
        "\n",
        "While label encoding is useful for ordinal categorical variables, it is important to note that the encoded integers may be misinterpreted as ordinal values by some machine learning algorithms. In cases where the categories do not have a meaningful order, one-hot encoding is preferred to avoid introducing unintended relationships between categories."
      ],
      "metadata": {
        "id": "UDaue5h32n_G"
      }
    },
    {
      "cell_type": "markdown",
      "source": [
        "### 4. Feature Manipulation & Selection"
      ],
      "metadata": {
        "id": "GMQiZwjn3iu7"
      }
    },
    {
      "cell_type": "markdown",
      "source": [
        "#### 1. Feature Manipulation"
      ],
      "metadata": {
        "id": "0-f9_nCbUS2l"
      }
    },
    {
      "cell_type": "code",
      "source": [
        "data.columns"
      ],
      "metadata": {
        "id": "PTouz10C3oNN"
      },
      "execution_count": null,
      "outputs": []
    },
    {
      "cell_type": "markdown",
      "source": [
        "#### 2. Feature Selection"
      ],
      "metadata": {
        "id": "WVIkgGqN3qsr"
      }
    },
    {
      "cell_type": "code",
      "source": [
        "# Select your features wisely to avoid overfitting\n",
        "correlation_matrix = data.corr()\n",
        "relevant_features = correlation_matrix['Rented Bike Count'].abs().sort_values(ascending=False)#.index[1:]\n",
        "relevant_features"
      ],
      "metadata": {
        "id": "88JnJ1jN3w7j"
      },
      "execution_count": null,
      "outputs": []
    },
    {
      "cell_type": "markdown",
      "source": [
        "##### What all feature selection methods have you used  and why?"
      ],
      "metadata": {
        "id": "pEMng2IbBLp7"
      }
    },
    {
      "cell_type": "markdown",
      "source": [
        "The code snippet uses correlation analysis to select relevant features. It calculates the correlation between each feature and the target variable ('Rented Bike Count') and then sorts the features based on their absolute correlation values in descending order. This method helps identify features that are most strongly correlated with the target variable"
      ],
      "metadata": {
        "id": "rb2Lh6Z8BgGs"
      }
    },
    {
      "cell_type": "markdown",
      "source": [
        "##### Which all features you found important and why?"
      ],
      "metadata": {
        "id": "rAdphbQ9Bhjc"
      }
    },
    {
      "cell_type": "markdown",
      "source": [
        "   - Based on the correlation analysis, the following features are considered important (in descending order of importance):\n",
        "     1. Total Hours Rented\n",
        "     2. Temperature(°C)\n",
        "     3. Hour\n",
        "     4. Dew point temperature(°C)\n",
        "     5. Solar Radiation (MJ/m2)\n",
        "     6. Seasons\n",
        "     7. Functioning Day\n",
        "     8. Year\n",
        "     9. Humidity(%)\n",
        "     10. Visibility (10m)\n",
        "     11. Rainfall(mm)\n",
        "     12. Snowfall (cm)\n",
        "     13. Wind speed (m/s)\n",
        "     14. Month\n",
        "     15. Holiday\n",
        "     16. DayOfWeek\n",
        "   - These features are considered important because they have the highest absolute correlation values with the target variable 'Rented Bike Count', indicating a stronger relationship with bike rental demand. Understanding the impact of these features can help businesses optimize their operations and marketing strategies to meet customer demand more effectively."
      ],
      "metadata": {
        "id": "fGgaEstsBnaf"
      }
    },
    {
      "cell_type": "code",
      "source": [
        "#Droping columns which has less correlation\n",
        "data.drop(columns=['Date','Dew point temperature(°C)','DayOfWeek','Holiday','Solar Radiation (MJ/m2)','Snowfall (cm)'],inplace=True)"
      ],
      "metadata": {
        "id": "L20nnqB-m6jN"
      },
      "execution_count": null,
      "outputs": []
    },
    {
      "cell_type": "code",
      "source": [
        "data.columns"
      ],
      "metadata": {
        "id": "YnsD0E7Qm6fw"
      },
      "execution_count": null,
      "outputs": []
    },
    {
      "cell_type": "code",
      "source": [
        "selected_features =['Hour', 'Temperature(°C)', 'Humidity(%)',\n",
        "       'Wind speed (m/s)', 'Visibility (10m)', 'Rainfall(mm)', 'Seasons',\n",
        "       'Functioning Day', 'Year','Month']\n",
        "selected_features"
      ],
      "metadata": {
        "id": "53wTf9VznDDi"
      },
      "execution_count": null,
      "outputs": []
    },
    {
      "cell_type": "code",
      "source": [
        "#cross checking features using Pearsons Correlation\n",
        "from scipy.stats import pearsonr\n",
        "\n",
        "# Import your data into Python\n",
        "df = data\n",
        "\n",
        "# Convert dataframe into series\n",
        "target_column = df['Rented Bike Count']\n",
        "pearson_features={}\n",
        "# Apply the pearsonr()\n",
        "for i in selected_features:\n",
        "  corr, _ = pearsonr(target_column, df[i])\n",
        "  pearson_features[i] = corr\n",
        "  # print(f'{i} : {corr}')\n",
        "pearson_features\n",
        "pearson_features_sorted = sorted(pearson_features.items(), key=lambda x:x[1])\n",
        "pearson_features_sorted\n"
      ],
      "metadata": {
        "id": "btQqabL-nL36"
      },
      "execution_count": null,
      "outputs": []
    },
    {
      "cell_type": "markdown",
      "source": [
        "### 5. Data Transformation"
      ],
      "metadata": {
        "id": "TNVZ9zx19K6k"
      }
    },
    {
      "cell_type": "code",
      "source": [
        "data.agg(['skew', 'kurtosis']).transpose()"
      ],
      "metadata": {
        "id": "da9joyj-nVmy"
      },
      "execution_count": null,
      "outputs": []
    },
    {
      "cell_type": "markdown",
      "source": [
        "#### Do you think that your data needs to be transformed? If yes, which transformation have you used. Explain Why?"
      ],
      "metadata": {
        "id": "nqoHp30x9hH9"
      }
    },
    {
      "cell_type": "code",
      "source": [
        "# Transform Your data\n",
        "data_transform = [ 'Rented Bike Count', 'Wind speed (m/s)', 'Visibility (10m)']\n",
        "\n",
        "data[data_transform] =np.sqrt(data[data_transform])\n",
        "data[data_transform] = data[data_transform][np.isfinite(data[data_transform])]\n",
        "data[data_transform] = data[data_transform].replace(np.nan, 0) # Replacing Nan with 0\n",
        "\n",
        "data[data_transform].hist(bins=50, figsize=(20, 15))\n",
        "plt.show()"
      ],
      "metadata": {
        "id": "I6quWQ1T9rtH"
      },
      "execution_count": null,
      "outputs": []
    },
    {
      "cell_type": "code",
      "source": [
        "data.isna().sum()"
      ],
      "metadata": {
        "id": "E6qYy9bTnfC1"
      },
      "execution_count": null,
      "outputs": []
    },
    {
      "cell_type": "markdown",
      "source": [
        "### 6. Data Scaling"
      ],
      "metadata": {
        "id": "rMDnDkt2B6du"
      }
    },
    {
      "cell_type": "code",
      "source": [
        "# Scaling your data\n",
        "data[selected_features].columns"
      ],
      "metadata": {
        "id": "dL9LWpySC6x_"
      },
      "execution_count": null,
      "outputs": []
    },
    {
      "cell_type": "code",
      "source": [
        "from sklearn.preprocessing import RobustScaler\n",
        "rob =RobustScaler()\n"
      ],
      "metadata": {
        "id": "uhMFUXWnnpfF"
      },
      "execution_count": null,
      "outputs": []
    },
    {
      "cell_type": "code",
      "source": [
        "data.isna().sum()"
      ],
      "metadata": {
        "id": "7hIM5WBntT38"
      },
      "execution_count": null,
      "outputs": []
    },
    {
      "cell_type": "markdown",
      "source": [
        "##### Which method have you used to scale you data and why?"
      ],
      "metadata": {
        "id": "yiiVWRdJDDil"
      }
    },
    {
      "cell_type": "markdown",
      "source": [
        "Robust Scalar is a scaling method used when data contains outliers"
      ],
      "metadata": {
        "id": "nmBV0YEEtZp-"
      }
    },
    {
      "cell_type": "markdown",
      "source": [
        "### 7. Dimesionality Reduction"
      ],
      "metadata": {
        "id": "1UUpS68QDMuG"
      }
    },
    {
      "cell_type": "markdown",
      "source": [
        "##### Do you think that dimensionality reduction is needed? Explain Why?"
      ],
      "metadata": {
        "id": "kexQrXU-DjzY"
      }
    },
    {
      "cell_type": "markdown",
      "source": [
        "Due to less features , There is no need for Dimensionality Reduction"
      ],
      "metadata": {
        "id": "GGRlBsSGDtTQ"
      }
    },
    {
      "cell_type": "code",
      "source": [
        "# DImensionality Reduction (If needed)"
      ],
      "metadata": {
        "id": "kQfvxBBHDvCa"
      },
      "execution_count": null,
      "outputs": []
    },
    {
      "cell_type": "markdown",
      "source": [
        "### 8. Data Splitting"
      ],
      "metadata": {
        "id": "BhH2vgX9EjGr"
      }
    },
    {
      "cell_type": "code",
      "source": [
        "# dependent and Independent Variables\n",
        "X=data[selected_features]\n",
        "y= data['Rented Bike Count']\n",
        "X_train,X_test,y_train,y_test=train_test_split(X,y,test_size=0.20,random_state=10)\n",
        "X_train = rob.fit_transform(X_train)\n",
        "X_test = rob.transform(X_test)"
      ],
      "metadata": {
        "id": "0CTyd2UwEyNM"
      },
      "execution_count": null,
      "outputs": []
    },
    {
      "cell_type": "markdown",
      "source": [
        "##### What data splitting ratio have you used and why?"
      ],
      "metadata": {
        "id": "qjKvONjwE8ra"
      }
    },
    {
      "cell_type": "markdown",
      "source": [
        "\n",
        "- 80-20 data splitting ratio, where 80% of the data is used for training the model and 20% is used for testing. This ratio is a common choice in machine learning for splitting data into training and testing sets.\n",
        "\n",
        "- Reason for Using 80-20 Split:\n",
        "\n",
        "- The 80-20 split is a good balance between having enough data to train the model effectively and having enough data to evaluate the model's performance.\n",
        "- With 80% of the data used for training, the model can learn from a large enough dataset to capture patterns and relationships in the data.\n",
        "- With 20% of the data used for testing, there is enough data to evaluate the model's performance without sacrificing too much of the training data. This helps in assessing the model's generalization to unseen data."
      ],
      "metadata": {
        "id": "Y2lJ8cobFDb_"
      }
    },
    {
      "cell_type": "markdown",
      "source": [
        "### 9. Handling Imbalanced Dataset"
      ],
      "metadata": {
        "id": "P1XJ9OREExlT"
      }
    },
    {
      "cell_type": "markdown",
      "source": [
        "##### Do you think the dataset is imbalanced? Explain Why."
      ],
      "metadata": {
        "id": "VFOzZv6IFROw"
      }
    },
    {
      "cell_type": "markdown",
      "source": [
        "- this data is not perfectly balanced , but Currently there is No need for Balancing dataset\n",
        "- If we are not satisfied with accuracy , we can test with diffrent Sampling methods"
      ],
      "metadata": {
        "id": "GeKDIv7pFgcC"
      }
    },
    {
      "cell_type": "code",
      "source": [
        "# Handling Imbalanced Dataset (If needed)\n",
        "Check_for_imbalnce = data['Rented Bike Count'].value_counts()\n",
        "Check_for_imbalnce"
      ],
      "metadata": {
        "id": "nQsRhhZLFiDs"
      },
      "execution_count": null,
      "outputs": []
    },
    {
      "cell_type": "markdown",
      "source": [
        "## ***7. ML Model Implementation***"
      ],
      "metadata": {
        "id": "VfCC591jGiD4"
      }
    },
    {
      "cell_type": "markdown",
      "source": [
        "### ML Model - 1: Linear Regression"
      ],
      "metadata": {
        "id": "OB4l2ZhMeS1U"
      }
    },
    {
      "cell_type": "code",
      "source": [
        "all_models = []\n",
        "MSE = []\n",
        "R2 = []"
      ],
      "metadata": {
        "id": "-bLnZSMkulxc"
      },
      "execution_count": null,
      "outputs": []
    },
    {
      "cell_type": "code",
      "source": [
        "updated_all_models = []\n",
        "updated_MSE = []\n",
        "updated_R2 = []"
      ],
      "metadata": {
        "id": "wu-_R9tduluD"
      },
      "execution_count": null,
      "outputs": []
    },
    {
      "cell_type": "code",
      "source": [
        "#model 1\n",
        "\n",
        "Linear_reg=LinearRegression().fit(X_train,y_train)\n",
        "y_pred=Linear_reg.predict(X_test)\n",
        "\n",
        "# Calculate mean squared error and R-squared score\n",
        "mse = mean_squared_error(y_test, y_pred)\n",
        "r2 = r2_score(y_test, y_pred)\n",
        "all_models.append('Linear Reg')\n",
        "MSE.append(mse)\n",
        "R2.append(r2)\n",
        "print(\"Mean Squared Error:\", mse)\n",
        "print(\"R-squared:\", r2)"
      ],
      "metadata": {
        "id": "0isTwXcSuwlR"
      },
      "execution_count": null,
      "outputs": []
    },
    {
      "cell_type": "markdown",
      "source": [
        "#### 1. Explain the ML Model used and it's performance using Evaluation metric Score Chart."
      ],
      "metadata": {
        "id": "ArJBuiUVfxKd"
      }
    },
    {
      "cell_type": "code",
      "source": [
        "# Visualizing evaluation Metric Score chart"
      ],
      "metadata": {
        "id": "rqD5ZohzfxKe"
      },
      "execution_count": null,
      "outputs": []
    },
    {
      "cell_type": "markdown",
      "source": [
        "#### 2. Cross- Validation & Hyperparameter Tuning"
      ],
      "metadata": {
        "id": "4qY1EAkEfxKe"
      }
    },
    {
      "cell_type": "code",
      "source": [
        "# ML Model - 1 Implementation with hyperparameter optimization techniques (i.e., GridSearch CV, RandomSearch CV, Bayesian Optimization etc.)\n",
        "from sklearn.model_selection import GridSearchCV\n",
        "# Fit the Algorithm\n",
        "model = LinearRegression()\n",
        "param_grid = {\n",
        "    'fit_intercept': [True, False],\n",
        "    'copy_X': [True, False]\n",
        "}\n",
        "grid_search = GridSearchCV(estimator=model, param_grid=param_grid, cv=5, scoring='neg_mean_squared_error', n_jobs=-1)\n",
        "grid_search.fit(X_train, y_train)\n",
        "\n",
        "# Predict on the model\n",
        "best_params = grid_search.best_params_\n",
        "best_model = grid_search.best_estimator_\n",
        "\n",
        "y_pred = best_model.predict(X_test)\n",
        "mse = mean_squared_error(y_test, y_pred)\n",
        "r2 = r2_score(y_test, y_pred)\n",
        "\n",
        "print(\"Best Hyperparameters:\", best_params)\n",
        "print(\"Mean Squared Error:\", mse)\n",
        "print(\"R-squared:\", r2)"
      ],
      "metadata": {
        "id": "Dy61ujd6fxKe"
      },
      "execution_count": null,
      "outputs": []
    },
    {
      "cell_type": "code",
      "source": [
        "updated_all_models.append('Grid_Linear Reg')\n",
        "updated_MSE.append(mse)\n",
        "updated_R2.append(r2)"
      ],
      "metadata": {
        "id": "nVWgL47mvM6A"
      },
      "execution_count": null,
      "outputs": []
    },
    {
      "cell_type": "markdown",
      "source": [
        "##### Which hyperparameter optimization technique have you used and why?"
      ],
      "metadata": {
        "id": "PiV4Ypx8fxKe"
      }
    },
    {
      "cell_type": "markdown",
      "source": [
        "GridSearchCV is used for hyperparameter optimization. GridSearchCV exhaustively searches through a specified parameter grid to find the best parameters for the model. This technique is chosen because it systematically evaluates all combinations of hyperparameters, ensuring that the best set of hyperparameters is selected."
      ],
      "metadata": {
        "id": "negyGRa7fxKf"
      }
    },
    {
      "cell_type": "markdown",
      "source": [
        "##### Have you seen any improvement? Note down the improvement with updates Evaluation metric Score Chart."
      ],
      "metadata": {
        "id": "TfvqoZmBfxKf"
      }
    },
    {
      "cell_type": "markdown",
      "source": [
        "No, there is Not any Increase in model Performance,All default Parameters of Linear regression are working as the Best Parameters"
      ],
      "metadata": {
        "id": "OaLui8CcfxKf"
      }
    },
    {
      "cell_type": "markdown",
      "source": [
        "### ML Model - 2 : Decision Tree"
      ],
      "metadata": {
        "id": "dJ2tPlVmpsJ0"
      }
    },
    {
      "cell_type": "markdown",
      "source": [
        "#### 1. Explain the ML Model used and it's performance using Evaluation metric Score Chart."
      ],
      "metadata": {
        "id": "JWYfwnehpsJ1"
      }
    },
    {
      "cell_type": "code",
      "source": [
        "# Model 2\n",
        "DecisionTree_reg = DecisionTreeRegressor()\n",
        "# Train the model on the training data\n",
        "DecisionTree_reg.fit(X_train, y_train)\n",
        "\n",
        "# Make predictions on the test data\n",
        "y_pred = DecisionTree_reg.predict(X_test)\n",
        "\n",
        "# Calculate mean squared error and R-squared score\n",
        "mse = mean_squared_error(y_test, y_pred)\n",
        "r2 = r2_score(y_test, y_pred)\n",
        "all_models.append('Decision Tree Reg')\n",
        "MSE.append(mse)\n",
        "R2.append(r2)\n",
        "\n",
        "print(\"Mean Squared Error:\", mse)\n",
        "print(\"R-squared:\", r2)"
      ],
      "metadata": {
        "id": "yEl-hgQWpsJ1"
      },
      "execution_count": null,
      "outputs": []
    },
    {
      "cell_type": "markdown",
      "source": [
        "#### 2. Cross- Validation & Hyperparameter Tuning"
      ],
      "metadata": {
        "id": "-jK_YjpMpsJ2"
      }
    },
    {
      "cell_type": "code",
      "source": [
        "model = DecisionTree_reg\n",
        "param_grid = { \"splitter\":[\"best\",\"random\"],\n",
        "            \"max_depth\" : [1,3,5,7,9,11,12],\n",
        "           \"min_samples_leaf\":[1,2,3,4,5,6,7,8,9,10],\n",
        "           \"min_weight_fraction_leaf\":[0.1,0.2,0.3,0.4,0.5],\n",
        "           \"max_leaf_nodes\":[None,10,20,30,40,50,60,70,80,90]\n",
        "}\n",
        "grid_search = GridSearchCV(estimator=model, param_grid=param_grid, cv=5, scoring='neg_mean_squared_error', n_jobs=-1)\n",
        "grid_search.fit(X_train, y_train)\n",
        "\n",
        "# Predict on the model\n",
        "best_params = grid_search.best_params_\n",
        "best_model = grid_search.best_estimator_\n",
        "\n",
        "y_pred = best_model.predict(X_test)\n",
        "mse = mean_squared_error(y_test, y_pred)\n",
        "r2 = r2_score(y_test, y_pred)\n",
        "\n",
        "updated_all_models.append('GridCV_DecisionTree_reg')\n",
        "updated_MSE.append(mse)\n",
        "updated_R2.append(r2)\n",
        "\n",
        "print(\"Best Hyperparameters:\", best_params)\n",
        "print(\"Mean Squared Error:\", mse)\n",
        "print(\"R-squared:\", r2)"
      ],
      "metadata": {
        "id": "Dn0EOfS6psJ2"
      },
      "execution_count": null,
      "outputs": []
    },
    {
      "cell_type": "markdown",
      "source": [
        "##### Which hyperparameter optimization technique have you used and why?"
      ],
      "metadata": {
        "id": "HAih1iBOpsJ2"
      }
    },
    {
      "cell_type": "markdown",
      "source": [
        "GridSearchCV is used for hyperparameter optimization. GridSearchCV exhaustively searches through a specified parameter grid to find the best parameters for the model. This technique is chosen because it systematically evaluates all combinations of hyperparameters, ensuring that the best set of hyperparameters is selected."
      ],
      "metadata": {
        "id": "9kBgjYcdpsJ2"
      }
    },
    {
      "cell_type": "markdown",
      "source": [
        "##### Have you seen any improvement? Note down the improvement with updates Evaluation metric Score Chart."
      ],
      "metadata": {
        "id": "zVGeBEFhpsJ2"
      }
    },
    {
      "cell_type": "markdown",
      "source": [
        "Yes, there is an improvement in the model's performance after hyperparameter tuning. The MSE has decreased from approximately 28.31 to 23.24, and the R-squared score has increased from 0.81 to 0.84. These improvements indicate that the model's predictions are more accurate and that the model explains a higher proportion of the variance in the target variable."
      ],
      "metadata": {
        "id": "74yRdG6UpsJ3"
      }
    },
    {
      "cell_type": "markdown",
      "source": [
        "#### 3. Explain each evaluation metric's indication towards business and the business impact pf the ML model used."
      ],
      "metadata": {
        "id": "bmKjuQ-FpsJ3"
      }
    },
    {
      "cell_type": "markdown",
      "source": [
        "Mean Squared Error (MSE): MSE measures the average of the squares of the errors—that is, the average squared difference between the estimated values and the actual value. In this context, a lower MSE indicates that the model's predictions are closer to the actual values, which is beneficial for businesses as it implies more accurate predictions of bike rental counts. This can lead to better resource allocation and operational planning.\n",
        "R-squared (R2) Score: R-squared measures the proportion of the variance in the dependent variable that is predictable from the independent variables. A higher R-squared value indicates that the model explains a larger portion of the variance in the target variable. In this case, an R-squared of 0.84 means that 84% of the variance in bike rental counts can be explained by the model. This is valuable for businesses as it provides insights into the factors influencing bike rentals, allowing for better decision-making and strategic planning."
      ],
      "metadata": {
        "id": "BDKtOrBQpsJ3"
      }
    },
    {
      "cell_type": "markdown",
      "source": [
        "### ML Model - 3: Random Forest"
      ],
      "metadata": {
        "id": "Fze-IPXLpx6K"
      }
    },
    {
      "cell_type": "code",
      "source": [
        "# model 3\n",
        "RandomForest_reg = RandomForestRegressor(random_state=42)\n",
        "# Train the model on the training data\n",
        "RandomForest_reg.fit(X_train, y_train)\n",
        "\n",
        "# Make predictions on the test data\n",
        "y_pred = RandomForest_reg.predict(X_test)\n",
        "\n",
        "# Calculate mean squared error and R-squared score\n",
        "mse = mean_squared_error(y_test, y_pred)\n",
        "r2 = r2_score(y_test, y_pred)\n",
        "all_models.append('Random forest Reg')\n",
        "MSE.append(mse)\n",
        "R2.append(r2)\n",
        "\n",
        "print(\"Mean Squared Error:\", mse)\n",
        "print(\"R-squared:\", r2)"
      ],
      "metadata": {
        "id": "FFrSXAtrpx6M"
      },
      "execution_count": null,
      "outputs": []
    },
    {
      "cell_type": "markdown",
      "source": [
        "#### 2. Cross- Validation & Hyperparameter Tuning"
      ],
      "metadata": {
        "id": "9PIHJqyupx6M"
      }
    },
    {
      "cell_type": "code",
      "source": [
        "model = RandomForest_reg\n",
        "param_grid = {\n",
        "            \"n_estimators\"      : [10,20,30],\n",
        "            \"max_features\"      : [\"auto\", \"sqrt\", \"log2\"],\n",
        "            \"min_samples_split\" : [2,4,8],\n",
        "            \"bootstrap\": [True, False]\n",
        "}\n",
        "grid_search = GridSearchCV(estimator=model, param_grid=param_grid, cv=5, scoring='neg_mean_squared_error', n_jobs=-1)\n",
        "grid_search.fit(X_train, y_train)\n",
        "\n",
        "# Predict on the model\n",
        "best_params = grid_search.best_params_\n",
        "best_model = grid_search.best_estimator_\n",
        "\n",
        "y_pred = best_model.predict(X_test)\n",
        "mse = mean_squared_error(y_test, y_pred)\n",
        "r2 = r2_score(y_test, y_pred)\n",
        "\n",
        "updated_all_models.append('GridCV_RandomForest_reg')\n",
        "updated_MSE.append(mse)\n",
        "updated_R2.append(r2)\n",
        "\n",
        "print(\"Best Hyperparameters:\", best_params)\n",
        "print(\"Mean Squared Error:\", mse)\n",
        "print(\"R-squared:\", r2)"
      ],
      "metadata": {
        "id": "eSVXuaSKpx6M"
      },
      "execution_count": null,
      "outputs": []
    },
    {
      "cell_type": "markdown",
      "source": [
        "### ML Model - 4: Gradient Boosting Regressor with GridSearchCV\n"
      ],
      "metadata": {
        "id": "FIOn-zBpzARB"
      }
    },
    {
      "cell_type": "code",
      "source": [
        "#model 4\n",
        "GradBoosting_reg = GradientBoostingRegressor()\n",
        "# Train the model on the training data\n",
        "GradBoosting_reg.fit(X_train, y_train)\n",
        "\n",
        "# Make predictions on the test data\n",
        "y_pred = GradBoosting_reg.predict(X_test)\n",
        "\n",
        "# Calculate mean squared error and R-squared score\n",
        "mse = mean_squared_error(y_test, y_pred)\n",
        "r2 = r2_score(y_test, y_pred)\n",
        "all_models.append('Grad Boost Reg')\n",
        "MSE.append(mse)\n",
        "R2.append(r2)\n",
        "\n",
        "print(\"Mean Squared Error:\", mse)\n",
        "print(\"R-squared:\", r2)"
      ],
      "metadata": {
        "id": "NbhftH2bzFBy"
      },
      "execution_count": null,
      "outputs": []
    },
    {
      "cell_type": "markdown",
      "source": [
        "#### 2. Cross- Validation & Hyperparameter Tuning"
      ],
      "metadata": {
        "id": "thVbvYWvzKuC"
      }
    },
    {
      "cell_type": "code",
      "source": [
        "model = GradBoosting_reg\n",
        "param_grid = {\n",
        "'n_estimators' :[10, 50, 100, 500],\n",
        "'learning_rate' :[0.0001, 0.001, 0.01, 0.1, 1.0],\n",
        "'subsample' : [0.5, 0.7, 1.0],\n",
        "'max_depth' : [3, 7, 9]\n",
        "}\n",
        "grid_search = GridSearchCV(estimator=model, param_grid=param_grid, cv=5, scoring='neg_mean_squared_error', n_jobs=-1)\n",
        "grid_search.fit(X_train, y_train)\n",
        "\n",
        "# Predict on the model\n",
        "best_params = grid_search.best_params_\n",
        "best_model = grid_search.best_estimator_\n",
        "\n",
        "y_pred = best_model.predict(X_test)\n",
        "mse = mean_squared_error(y_test, y_pred)\n",
        "r2 = r2_score(y_test, y_pred)\n",
        "\n",
        "updated_all_models.append('GridCV_GradBoosting_reg')\n",
        "updated_MSE.append(mse)\n",
        "updated_R2.append(r2)\n",
        "\n",
        "print(\"Best Hyperparameters:\", best_params)\n",
        "print(\"Mean Squared Error:\", mse)\n",
        "print(\"R-squared:\", r2)"
      ],
      "metadata": {
        "id": "GZbSB8iRElPX"
      },
      "execution_count": null,
      "outputs": []
    },
    {
      "cell_type": "code",
      "source": [],
      "metadata": {
        "id": "ijCKv5y1DoCK"
      },
      "execution_count": null,
      "outputs": []
    },
    {
      "cell_type": "markdown",
      "source": [
        "##### Which hyperparameter optimization technique have you used and why?"
      ],
      "metadata": {
        "id": "_-qAgymDpx6N"
      }
    },
    {
      "cell_type": "markdown",
      "source": [
        "The hyperparameter optimization technique used in the code is Grid Search Cross Validation (GridSearchCV). Grid Search CV is used because it exhaustively searches over a specified parameter grid to find the best parameters for the model. It evaluates each combination of parameters using cross-validation to avoid overfitting and select the best-performing set of hyperparameters."
      ],
      "metadata": {
        "id": "lQMffxkwpx6N"
      }
    },
    {
      "cell_type": "markdown",
      "source": [
        "##### Have you seen any improvement? Note down the improvement with updates Evaluation metric Score Chart."
      ],
      "metadata": {
        "id": "Z-hykwinpx6N"
      }
    },
    {
      "cell_type": "markdown",
      "source": [
        "Yes, there is a significant improvement in the model's performance after hyperparameter tuning. The mean squared error (MSE) decreased from 18.10 to 12.77, and the R-squared score increased from 0.878 to 0.914. This indicates that the model's predictive performance has improved significantly after tuning the hyperparameters."
      ],
      "metadata": {
        "id": "MzVzZC6opx6N"
      }
    },
    {
      "cell_type": "markdown",
      "source": [
        "### 1. Which Evaluation metrics did you consider for a positive business impact and why?"
      ],
      "metadata": {
        "id": "h_CCil-SKHpo"
      }
    },
    {
      "cell_type": "markdown",
      "source": [
        "**Evaluation Metrics:**\n",
        "\n",
        "MSE: Mean Squared Error is a measure of the average squared difference between the observed and predicted values in a regression analysis. A lower MSE indicates a better model fit.\n",
        "R-squared: R-squared is a measure of how well the model explains the variance in the dependent variable. A higher R-squared value indicates a better fit.\n",
        "Updated Evaluation Metric Score Chart:\n",
        "\n",
        "**Before Hyperparameter Tuning:**\n",
        "\n",
        "MSE: 18.10\n",
        "R-squared: 0.878\n",
        "After Hyperparameter Tuning:\n",
        "\n",
        "MSE: 12.77\n",
        "R-squared: 0.914"
      ],
      "metadata": {
        "id": "jHVz9hHDKFms"
      }
    },
    {
      "cell_type": "markdown",
      "source": [
        "### 2. Which ML model did you choose from the above created models as your final prediction model and why?"
      ],
      "metadata": {
        "id": "cBFFvTBNJzUa"
      }
    },
    {
      "cell_type": "markdown",
      "source": [
        "**Evaluation Metrics for Positive Business Impact:**\n",
        "\n",
        "R-squared is considered for a positive business impact because it provides an indication of how well the model predicts the actual demand for bike rentals. A higher R-squared value means that the model can better explain the variation in the target variable, which is crucial for accurately forecasting demand and optimizing inventory management.\n",
        "\n",
        "**Final Prediction Model:**\n",
        "\n",
        "The final prediction model selected from the above created models is the Gradient Boosting Regressor after hyperparameter tuning. This decision is based on the improved performance metrics (MSE and R-squared) achieved by the model after tuning the hyperparameters. The tuned Gradient Boosting Regressor model outperformed the other models in terms of predictive accuracy, making it the preferred choice for predicting bike sharing demand."
      ],
      "metadata": {
        "id": "6ksF5Q1LKTVm"
      }
    },
    {
      "cell_type": "markdown",
      "source": [
        "### 3. Explain the model which you have used and the feature importance using any model explainability tool?"
      ],
      "metadata": {
        "id": "HvGl1hHyA_VK"
      }
    },
    {
      "cell_type": "markdown",
      "source": [
        "**Model Explanation and Feature Importance:**\n",
        "\n",
        "- The Gradient Boosting Regressor is an ensemble learning technique that combines the predictions of several base estimators (decision trees) to improve the model's accuracy. It works by sequentially adding new models to correct the errors of the previous models.\n",
        "-  Feature importance can be explained using the feature_importances_ attribute of the trained Gradient Boosting Regressor model. This attribute provides a score for each feature indicating its importance in the model's predictions. Features with higher importance scores are more influential in predicting the target variable (bike rental demand)."
      ],
      "metadata": {
        "id": "YnvVTiIxBL-C"
      }
    },
    {
      "cell_type": "markdown",
      "source": [
        "## ***8.*** ***Future Work (Optional)***"
      ],
      "metadata": {
        "id": "EyNgTHvd2WFk"
      }
    },
    {
      "cell_type": "markdown",
      "source": [
        "### 1. Save the best performing ml model in a pickle file or joblib file format for deployment process.\n"
      ],
      "metadata": {
        "id": "KH5McJBi2d8v"
      }
    },
    {
      "cell_type": "code",
      "source": [
        "# Save the File\n",
        "models = all_models\n",
        "r_squared = R2\n",
        "mse = MSE\n",
        "\n",
        "# Visualize R-squared values\n",
        "plt.figure(figsize=(10, 5))\n",
        "bars = plt.bar(models, r_squared, color='skyblue')\n",
        "plt.xlabel('Models')\n",
        "plt.ylabel('R-squared')\n",
        "plt.title('R-squared values of different models')\n",
        "plt.ylim(0, 1)\n",
        "# Adding percentage labels on top of the bars\n",
        "for bar in bars.patches:\n",
        "    yval = bar.get_height()\n",
        "    plt.text(bar.get_x() + bar.get_width() / 2, yval , f'{yval:.1f}%', ha='center', va='bottom')\n",
        "plt.show()\n",
        "\n",
        "# Visualize Mean Squared Error\n",
        "plt.figure(figsize=(10, 5))\n",
        "bars = plt.bar(models, mse, color='lightcoral')\n",
        "plt.xlabel('Models')\n",
        "plt.ylabel('Mean Squared Error')\n",
        "plt.title('Mean Squared Error of different models')\n",
        "for bar in bars.patches:\n",
        "    yval = bar.get_height()\n",
        "    plt.text(bar.get_x() + bar.get_width() / 2, yval , f'{yval:.1f}', ha='center', va='bottom')\n",
        "plt.show()"
      ],
      "metadata": {
        "id": "1-M7PrMiE9oH"
      },
      "execution_count": null,
      "outputs": []
    },
    {
      "cell_type": "code",
      "source": [
        "# Visualize R-squared values\n",
        "plt.figure(figsize=(10, 5))\n",
        "bars = plt.bar(updated_all_models, updated_R2, color='skyblue')\n",
        "plt.xlabel('Models')\n",
        "plt.ylabel('R-squared')\n",
        "plt.title('R-squared values of different models after Hyperparameter Tunning')\n",
        "plt.ylim(0, 1)\n",
        "for bar in bars.patches:\n",
        "    yval = bar.get_height()\n",
        "    plt.text(bar.get_x() + bar.get_width() / 2, yval , f'{yval:.1f}%', ha='center', va='bottom')\n",
        "plt.show()\n",
        "\n",
        "# Visualize Mean Squared Error\n",
        "plt.figure(figsize=(10, 5))\n",
        "bars = plt.bar(updated_all_models, updated_MSE, color='lightcoral')\n",
        "plt.xlabel('Models')\n",
        "plt.ylabel('Mean Squared Error')\n",
        "plt.title('Mean Squared Error of different models after Hyperparameter Tunning')\n",
        "for bar in bars.patches:\n",
        "    yval = bar.get_height()\n",
        "    plt.text(bar.get_x() + bar.get_width() / 2, yval , f'{yval:.1f}', ha='center', va='bottom')\n",
        "plt.show()\n"
      ],
      "metadata": {
        "id": "mtE500aI0iGD"
      },
      "execution_count": null,
      "outputs": []
    },
    {
      "cell_type": "code",
      "source": [
        "import pickle\n",
        "\n",
        "# Save the model to a file\n",
        "with open('best_model.pkl', 'wb') as file:\n",
        "    pickle.dump(model, file)"
      ],
      "metadata": {
        "id": "hqUcjp040odc"
      },
      "execution_count": null,
      "outputs": []
    },
    {
      "cell_type": "markdown",
      "source": [
        "### 2. Again Load the saved model file and try to predict unseen data for a sanity check.\n"
      ],
      "metadata": {
        "id": "iW_Lq9qf2h6X"
      }
    },
    {
      "cell_type": "code",
      "source": [
        "# Load the saved model\n",
        "with open('best_model.pkl', 'rb') as file:\n",
        "    loaded_model = pickle.load(file)"
      ],
      "metadata": {
        "id": "oEXk9ydD2nVC"
      },
      "execution_count": null,
      "outputs": []
    },
    {
      "cell_type": "markdown",
      "source": [
        "### ***Congrats! Your model is successfully created and ready for deployment on a live server for a real user interaction !!!***"
      ],
      "metadata": {
        "id": "-Kee-DAl2viO"
      }
    },
    {
      "cell_type": "markdown",
      "source": [
        "# **Conclusion**"
      ],
      "metadata": {
        "id": "gCX9965dhzqZ"
      }
    },
    {
      "cell_type": "markdown",
      "source": [
        "1.  The bike sharing demand prediction project involved developing a machine learning model to forecast the number of bike rentals based on various factors. The project followed a systematic approach to machine learning, including data preprocessing, exploratory data analysis (EDA), model selection, hyperparameter tuning, and performance evaluation.\n",
        "\n",
        "2. Four different regression algorithms were considered for the prediction task: linear regression, decision tree regression, random forest regression, and gradient boosting regression. After evaluating these models, the gradient boosting regression algorithm was selected as the final prediction model due to its superior performance after hyperparameter tuning.\n",
        "\n",
        "3. Hyperparameter tuning using Grid Search Cross Validation (GridSearchCV) was conducted to optimize the hyperparameters of the gradient boosting regressor. This resulted in a significant improvement in the model's performance, with the mean squared error (MSE) decreasing from 13.75 to 12.79 , and the R-squared score increasing from 0.87 to 0.91.\n",
        "\n",
        "4. The final model can be used by bike-sharing companies to predict demand and optimize inventory management, leading to improved customer satisfaction and increased revenue. Overall, the project demonstrates the effectiveness of machine learning in predicting bike sharing demand and its potential impact on business operations."
      ],
      "metadata": {
        "id": "Fjb1IsQkh3yE"
      }
    },
    {
      "cell_type": "markdown",
      "source": [
        "### ***Hurrah! You have successfully completed your Machine Learning Capstone Project !!!***"
      ],
      "metadata": {
        "id": "gIfDvo9L0UH2"
      }
    }
  ]
}